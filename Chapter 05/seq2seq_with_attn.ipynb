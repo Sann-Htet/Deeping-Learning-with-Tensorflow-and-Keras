{
 "cells": [
  {
   "cell_type": "code",
   "execution_count": 1,
   "id": "26dc846c",
   "metadata": {
    "id": "26dc846c"
   },
   "outputs": [],
   "source": [
    "import nltk\n",
    "import numpy as np\n",
    "import re\n",
    "import tensorflow as tf\n",
    "import os\n",
    "import unicodedata\n",
    "from nltk.translate.bleu_score import sentence_bleu, SmoothingFunction"
   ]
  },
  {
   "cell_type": "code",
   "execution_count": 2,
   "id": "KyHd1yJe24zB",
   "metadata": {
    "colab": {
     "base_uri": "https://localhost:8080/"
    },
    "id": "KyHd1yJe24zB",
    "outputId": "51616650-1ea4-446b-ed86-854625c283f7"
   },
   "outputs": [
    {
     "name": "stderr",
     "output_type": "stream",
     "text": [
      "WARNING:tensorflow:From <ipython-input-2-3c7edf20f452>:1: is_gpu_available (from tensorflow.python.framework.test_util) is deprecated and will be removed in a future version.\n",
      "Instructions for updating:\n",
      "Use `tf.config.list_physical_devices('GPU')` instead.\n"
     ]
    },
    {
     "name": "stdout",
     "output_type": "stream",
     "text": [
      "GPU Available: True\n"
     ]
    }
   ],
   "source": [
    "print(\"GPU Available:\", tf.test.is_gpu_available())"
   ]
  },
  {
   "cell_type": "code",
   "execution_count": 3,
   "id": "RV6KgNp63L1T",
   "metadata": {
    "colab": {
     "base_uri": "https://localhost:8080/"
    },
    "id": "RV6KgNp63L1T",
    "outputId": "9af0e657-1e97-4c3c-e0e5-946577bfd078"
   },
   "outputs": [
    {
     "name": "stdout",
     "output_type": "stream",
     "text": [
      "/device:GPU:0\n"
     ]
    }
   ],
   "source": [
    "if tf.test.is_gpu_available():\n",
    "  device_name = tf.test.gpu_device_name()\n",
    "else:\n",
    "  device_name = '/CPU:0'\n",
    "print(device_name)"
   ]
  },
  {
   "cell_type": "code",
   "execution_count": 5,
   "id": "7783b0fa",
   "metadata": {
    "id": "7783b0fa"
   },
   "outputs": [],
   "source": [
    "def preprocess_sentence(sent):\n",
    "    sent = \"\".join([c for c in unicodedata.normalize(\"NFD\", sent)\n",
    "        if unicodedata.category(c) != \"Mn\"])\n",
    "    sent = re.sub(r\"([!.?])\", r\" \\1\", sent)\n",
    "    sent = re.sub(r\"[^a-zA-Z!.?]+\", r\" \", sent)\n",
    "    sent = re.sub(r\"\\s+\", \" \", sent)\n",
    "    sent = sent.lower()\n",
    "    return sent\n",
    "\n",
    "def download_and_read():\n",
    "    en_sents, fr_sents_in, fr_sents_out = [], [], []\n",
    "    local_file = os.path.join(\"./datasets/\", \"fra.txt\")\n",
    "    with open(local_file, \"r\") as fin:\n",
    "        for i, line in enumerate(fin):\n",
    "            en_sent, fr_sent, other = line.strip().split('\\t')\n",
    "            en_sent = [w for w in preprocess_sentence(en_sent).split()]\n",
    "            fr_sent = preprocess_sentence(fr_sent)\n",
    "            fr_sent_in = [w for w in (\"BOS \" + fr_sent).split()]\n",
    "            fr_sent_out = [w for w in (fr_sent + \" EOS\").split()]\n",
    "            en_sents.append(en_sent)\n",
    "            fr_sents_in.append(fr_sent_in)\n",
    "            fr_sents_out.append(fr_sent_out)\n",
    "            if i >= num_sent_pairs - 1:\n",
    "                break\n",
    "    return en_sents, fr_sents_in, fr_sents_out\n",
    "\n",
    "num_sent_pairs = 30000\n",
    "sents_en, sents_fr_in, sents_fr_out = download_and_read()"
   ]
  },
  {
   "cell_type": "code",
   "execution_count": 6,
   "id": "e3f97e31",
   "metadata": {
    "colab": {
     "base_uri": "https://localhost:8080/"
    },
    "id": "e3f97e31",
    "outputId": "0eb6daaa-fed8-4236-8f86-06933ada8013"
   },
   "outputs": [
    {
     "name": "stdout",
     "output_type": "stream",
     "text": [
      "vocab size (en): 4295, vocab size (fr): 7471\n",
      "seqlen (en): 8, (fr): 16\n"
     ]
    }
   ],
   "source": [
    "tokenizer_en = tf.keras.preprocessing.text.Tokenizer(filters=\"\", lower=False)\n",
    "tokenizer_en.fit_on_texts(sents_en)\n",
    "\n",
    "data_en = tokenizer_en.texts_to_sequences(sents_en)\n",
    "data_en = tf.keras.preprocessing.sequence.pad_sequences(data_en, maxlen=8, padding=\"post\")\n",
    "\n",
    "tokenizer_fr = tf.keras.preprocessing.text.Tokenizer(filters=\"\", lower=False)\n",
    "tokenizer_fr.fit_on_texts(sents_fr_in)\n",
    "tokenizer_fr.fit_on_texts(sents_fr_out)\n",
    "\n",
    "data_fr_in = tokenizer_fr.texts_to_sequences(sents_fr_in)\n",
    "data_fr_in = tf.keras.preprocessing.sequence.pad_sequences(data_fr_in, maxlen=16, padding=\"post\")\n",
    "data_fr_out = tokenizer_fr.texts_to_sequences(sents_fr_out)\n",
    "data_fr_out = tf.keras.preprocessing.sequence.pad_sequences(data_fr_out, maxlen=16, padding=\"post\")\n",
    "\n",
    "vocab_size_en = len(tokenizer_en.word_index)\n",
    "vocab_size_fr = len(tokenizer_fr.word_index)\n",
    "\n",
    "word2idx_en = tokenizer_en.word_index\n",
    "idx2word_en = {v:k for k, v in word2idx_en.items()}\n",
    "\n",
    "word2idx_fr = tokenizer_fr.word_index\n",
    "idx2word_fr = {v:k for k, v in word2idx_fr.items()}\n",
    "\n",
    "print(\"vocab size (en): {:d}, vocab size (fr): {:d}\".format(vocab_size_en, vocab_size_fr))\n",
    "\n",
    "maxlen_en = data_en.shape[1]\n",
    "maxlen_fr = data_fr_out.shape[1]\n",
    "print(\"seqlen (en): {:d}, (fr): {:d}\".format(maxlen_en, maxlen_fr))"
   ]
  },
  {
   "cell_type": "code",
   "execution_count": 7,
   "id": "f64f2b0f",
   "metadata": {
    "id": "f64f2b0f"
   },
   "outputs": [],
   "source": [
    "batch_size = 64\n",
    "dataset = tf.data.Dataset.from_tensor_slices((data_en, data_fr_in, data_fr_out))\n",
    "dataset = dataset.shuffle(10000)\n",
    "test_size = num_sent_pairs // 4\n",
    "test_dataset = dataset.take(test_size).batch(batch_size, drop_remainder=True)\n",
    "train_dataset = dataset.skip(test_size).batch(batch_size, drop_remainder=True)"
   ]
  },
  {
   "cell_type": "code",
   "execution_count": 8,
   "id": "ea93058f",
   "metadata": {
    "id": "ea93058f"
   },
   "outputs": [],
   "source": [
    "class Encoder(tf.keras.Model):\n",
    "    def __init__(self, vocab_size, embedding_dim, num_timesteps, encoder_dim, **kwargs):\n",
    "        super(Encoder, self).__init__(**kwargs)\n",
    "        self.encoder_dim = encoder_dim\n",
    "        self.embedding = tf.keras.layers.Embedding(vocab_size, embedding_dim, input_length=num_timesteps)\n",
    "        self.rnn = tf.keras.layers.GRU(encoder_dim, return_sequences=True, return_state=True)\n",
    "\n",
    "    def call(self, x, state):\n",
    "        x = self.embedding(x)\n",
    "        x, state = self.rnn(x, initial_state=state)\n",
    "        return x, state\n",
    "\n",
    "    def init_state(self, batch_size):\n",
    "        return tf.zeros((batch_size, self.encoder_dim))\n",
    "\n",
    "class BahdanauAttention(tf.keras.layers.Layer):\n",
    "    def __init__(self, num_units):\n",
    "        super(BahdanauAttention, self).__init__()\n",
    "        self.W1 = tf.keras.layers.Dense(num_units)\n",
    "        self.W2 = tf.keras.layers.Dense(num_units)\n",
    "        self.V = tf.keras.layers.Dense(1)\n",
    "\n",
    "    def call(self, query, values):\n",
    "        # query is the decoder state at time step j\n",
    "        # query.shape: (batch_size, num_units)\n",
    "        # values are encoder states at every timestep i\n",
    "        # values.shape: (batch_size, num_timesteps, num_units)\n",
    "\n",
    "        # add time axis to query: (batch_size, 1, num_units)\n",
    "        query_with_time_axis = tf.expand_dims(query, axis=1)\n",
    "        # compute score:\n",
    "        score = self.V(tf.keras.activations.tanh(\n",
    "            self.W1(values) + self.W2(query_with_time_axis)))\n",
    "        # compute softmax\n",
    "        alignment = tf.nn.softmax(score, axis=1)\n",
    "        # compute attended output\n",
    "        context = tf.reduce_sum(\n",
    "            tf.linalg.matmul(\n",
    "                tf.linalg.matrix_transpose(alignment),\n",
    "                values\n",
    "            ), axis=1\n",
    "        )\n",
    "        context = tf.expand_dims(context, axis=1)\n",
    "        return context, alignment\n",
    "\n",
    "\n",
    "class LuongAttention(tf.keras.layers.Layer):\n",
    "    def __init__(self, num_units):\n",
    "        super(LuongAttention, self).__init__()\n",
    "        self.W = tf.keras.layers.Dense(num_units)\n",
    "\n",
    "    def call(self, query, values):\n",
    "        # add time axis to query\n",
    "        query_with_time_axis = tf.expand_dims(query, axis=1)\n",
    "        # compute score\n",
    "        score = tf.linalg.matmul(\n",
    "            query_with_time_axis, self.W(values), transpose_b=True)\n",
    "        # compute softmax\n",
    "        alignment = tf.nn.softmax(score, axis=1)\n",
    "        # compute attended output\n",
    "        context = tf.matmul(alignment, values)\n",
    "        return context, alignment"
   ]
  },
  {
   "cell_type": "code",
   "execution_count": 9,
   "id": "ca5574ec",
   "metadata": {
    "colab": {
     "base_uri": "https://localhost:8080/"
    },
    "id": "ca5574ec",
    "outputId": "ebd6ac67-a13d-4886-ad25-a65a7e8d0642"
   },
   "outputs": [
    {
     "name": "stdout",
     "output_type": "stream",
     "text": [
      "Bahdanau: context.shape: (64, 1, 1024) alignments.shape: (64, 100, 1)\n",
      "Luong: context.shape: (64, 1, 1024) alignments.shape: (64, 1, 100)\n"
     ]
    }
   ],
   "source": [
    "batch_size = 64\n",
    "num_timesteps = 100\n",
    "num_units = 1024\n",
    "query = np.random.random(size=(batch_size, num_units))\n",
    "values = np.random.random(size=(batch_size, num_timesteps, num_units))\n",
    "\n",
    "# check out dimensions for Bahdanau attention\n",
    "b_attn = BahdanauAttention(num_units)\n",
    "context, alignments = b_attn(query, values)\n",
    "print(\"Bahdanau: context.shape:\", context.shape, \"alignments.shape:\", alignments.shape)\n",
    "\n",
    "# check out dimensions for Luong attention\n",
    "l_attn = LuongAttention(num_units)\n",
    "context, alignments = l_attn(query, values)\n",
    "print(\"Luong: context.shape:\", context.shape, \"alignments.shape:\", alignments.shape)"
   ]
  },
  {
   "cell_type": "code",
   "execution_count": 10,
   "id": "1e8eb89f",
   "metadata": {
    "id": "1e8eb89f"
   },
   "outputs": [],
   "source": [
    "class Decoder(tf.keras.Model):\n",
    "    def __init__(self, vocab_size, embedding_dim, num_timesteps, decoder_dim, **kwargs):\n",
    "        super(Decoder, self).__init__(**kwargs)\n",
    "        self.decoder_dim = decoder_dim\n",
    "        self.attention = BahdanauAttention(embedding_dim)\n",
    "        #self.attention = LuongAttention(embedding_dim)\n",
    "        self.embedding = tf.keras.layers.Embedding(vocab_size, embedding_dim, input_length=num_timesteps)\n",
    "        self.rnn = tf.keras.layers.GRU(decoder_dim, return_sequences=True, return_state=True)\n",
    "        self.Wc = tf.keras.layers.Dense(decoder_dim, activation=\"tanh\")\n",
    "        self.Ws = tf.keras.layers.Dense(vocab_size)\n",
    "\n",
    "    def call(self, x, state, encoder_out):\n",
    "        x = self.embedding(x)\n",
    "        context, alignment = self.attention(x, encoder_out)\n",
    "        x = tf.expand_dims(tf.concat([x, tf.squeeze(context, axis=1)], axis=1), axis=1)\n",
    "        x, state = self.rnn(x, state)\n",
    "        x = self.Wc(x)\n",
    "        x = self.Ws(x)\n",
    "        return x, state, alignment"
   ]
  },
  {
   "cell_type": "code",
   "execution_count": 11,
   "id": "c786f124",
   "metadata": {
    "id": "c786f124"
   },
   "outputs": [],
   "source": [
    "embedding_dim = 256\n",
    "encoder_dim, decoder_dim = 1024, 1024\n",
    "encoder = Encoder(vocab_size_en+1, embedding_dim, maxlen_en, encoder_dim)\n",
    "decoder = Decoder(vocab_size_fr+1, embedding_dim, maxlen_fr, decoder_dim)"
   ]
  },
  {
   "cell_type": "code",
   "execution_count": 12,
   "id": "6e3991f8",
   "metadata": {
    "id": "6e3991f8"
   },
   "outputs": [],
   "source": [
    "@tf.function\n",
    "def train_step(encoder_in, decoder_in, decoder_out, encoder_state):\n",
    "    with tf.GradientTape() as tape:\n",
    "        encoder_out, encoder_state = encoder(encoder_in, encoder_state)\n",
    "        decoder_state = encoder_state\n",
    "        loss = 0\n",
    "        for t in range(decoder_out.shape[1]):\n",
    "            decoder_in_t = decoder_in[:, t]\n",
    "            decoder_pred_t, decoder_state, _ = decoder(decoder_in_t, decoder_state, encoder_out)\n",
    "            loss += loss_fn(decoder_out[:, t], decoder_pred_t)\n",
    "    variables = (encoder.trainable_variables + decoder.trainable_variables)\n",
    "    gradients = tape.gradient(loss, variables)\n",
    "    optimizer.apply_gradients(zip(gradients, variables))\n",
    "    return loss / decoder_out.shape[1]"
   ]
  },
  {
   "cell_type": "code",
   "execution_count": 13,
   "id": "7d9575a2",
   "metadata": {
    "id": "7d9575a2"
   },
   "outputs": [],
   "source": [
    "def loss_fn(ytrue, ypred):\n",
    "    scce = tf.keras.losses.SparseCategoricalCrossentropy(from_logits=True)\n",
    "    mask = tf.math.logical_not(tf.math.equal(ytrue, 0))\n",
    "    mask = tf.cast(mask, dtype=tf.int64)\n",
    "    loss = scce(ytrue, ypred, sample_weight=mask)\n",
    "    return loss"
   ]
  },
  {
   "cell_type": "code",
   "execution_count": 14,
   "id": "d49c58c1",
   "metadata": {
    "id": "d49c58c1"
   },
   "outputs": [],
   "source": [
    "def predict(encoder, decoder, batch_size,\n",
    "        sents_en, data_en, sents_fr_out,\n",
    "        word2idx_fr, idx2word_fr):\n",
    "    random_id = np.random.choice(len(sents_en))\n",
    "    print(\"input    : \",  \" \".join(sents_en[random_id]))\n",
    "    print(\"label    : \", \" \".join(sents_fr_out[random_id]))\n",
    "\n",
    "    encoder_in = tf.expand_dims(data_en[random_id], axis=0)\n",
    "    decoder_out = tf.expand_dims(sents_fr_out[random_id], axis=0)\n",
    "\n",
    "    encoder_state = encoder.init_state(1)\n",
    "    encoder_out, encoder_state = encoder(encoder_in, encoder_state)\n",
    "    decoder_state = encoder_state\n",
    "\n",
    "    pred_sent_fr = []\n",
    "    decoder_in = tf.expand_dims(\n",
    "        tf.constant(word2idx_fr[\"BOS\"]), axis=0)\n",
    "\n",
    "    while True:\n",
    "        decoder_pred, decoder_state, _ = decoder(\n",
    "            decoder_in, decoder_state, encoder_out)\n",
    "        decoder_pred = tf.argmax(decoder_pred, axis=-1)\n",
    "        pred_word = idx2word_fr[decoder_pred.numpy()[0][0]]\n",
    "        pred_sent_fr.append(pred_word)\n",
    "        if pred_word == \"EOS\":\n",
    "            break\n",
    "        decoder_in = tf.squeeze(decoder_pred, axis=1)\n",
    "\n",
    "    print(\"predicted: \", \" \".join(pred_sent_fr))\n",
    "\n",
    "def evaluate_bleu_score(encoder, decoder, test_dataset,\n",
    "        word2idx_fr, idx2word_fr):\n",
    "\n",
    "    bleu_scores = []\n",
    "    smooth_fn = SmoothingFunction()\n",
    "\n",
    "    for encoder_in, decoder_in, decoder_out in test_dataset:\n",
    "        encoder_state = encoder.init_state(batch_size)\n",
    "        encoder_out, encoder_state = encoder(encoder_in, encoder_state)\n",
    "        decoder_state = encoder_state\n",
    "\n",
    "        ref_sent_ids = np.zeros_like(decoder_out)\n",
    "        hyp_sent_ids = np.zeros_like(decoder_out)\n",
    "        for t in range(decoder_out.shape[1]):\n",
    "            decoder_out_t = decoder_out[:, t]\n",
    "            decoder_in_t = decoder_in[:, t]\n",
    "            decoder_pred_t, decoder_state, _ = decoder(\n",
    "                decoder_in_t, decoder_state, encoder_out)\n",
    "            decoder_pred_t = tf.argmax(decoder_pred_t, axis=-1)\n",
    "            for b in range(decoder_pred_t.shape[0]):\n",
    "                ref_sent_ids[b, t] = decoder_out_t.numpy()[0]\n",
    "                hyp_sent_ids[b, t] = decoder_pred_t.numpy()[0][0]\n",
    "\n",
    "        for b in range(ref_sent_ids.shape[0]):\n",
    "            ref_sent = [idx2word_fr[i] for i in ref_sent_ids[b] if i > 0]\n",
    "            hyp_sent = [idx2word_fr[i] for i in hyp_sent_ids[b] if i > 0]\n",
    "            # remove trailing EOS\n",
    "            ref_sent = ref_sent[0:-1]\n",
    "            hyp_sent = hyp_sent[0:-1]\n",
    "            bleu_score = sentence_bleu([ref_sent], hyp_sent,\n",
    "                smoothing_function=smooth_fn.method1)\n",
    "            bleu_scores.append(bleu_score)\n",
    "\n",
    "    return np.mean(np.array(bleu_scores))"
   ]
  },
  {
   "cell_type": "code",
   "execution_count": null,
   "id": "cd0290a1",
   "metadata": {
    "colab": {
     "base_uri": "https://localhost:8080/"
    },
    "id": "cd0290a1",
    "outputId": "8acc753a-6ca9-4c05-8fc8-3cf73a972e48",
    "scrolled": false
   },
   "outputs": [
    {
     "name": "stdout",
     "output_type": "stream",
     "text": [
      "Epoch: 1, Loss: 0.5554\n",
      "input    :  we re in danger .\n",
      "label    :  nous sommes en danger . EOS\n",
      "predicted:  nous sommes en danger . EOS\n",
      "Eval Score (BLEU): 5.930e-02\n",
      "Epoch: 2, Loss: 0.4906\n",
      "input    :  i can t go .\n",
      "label    :  je ne peux pas m y rendre . EOS\n",
      "predicted:  je ne peux pas y aller . EOS\n",
      "Eval Score (BLEU): 8.176e-02\n",
      "Epoch: 3, Loss: 0.3499\n",
      "input    :  be prepared .\n",
      "label    :  sois pret ! EOS\n",
      "predicted:  tenez vous prets ! EOS\n",
      "Eval Score (BLEU): 8.780e-02\n",
      "Epoch: 4, Loss: 0.3349\n",
      "input    :  i saw him .\n",
      "label    :  je l ai vu . EOS\n",
      "predicted:  je l ai vu . EOS\n",
      "Eval Score (BLEU): 9.343e-02\n",
      "Epoch: 5, Loss: 0.2330\n",
      "input    :  i lost everything .\n",
      "label    :  j ai tout perdu . EOS\n",
      "predicted:  j ai perdu . EOS\n",
      "Eval Score (BLEU): 1.182e-01\n",
      "Epoch: 6, Loss: 0.1755\n",
      "input    :  i trusted him .\n",
      "label    :  je lui faisais confiance . EOS\n",
      "predicted:  je l ai toujours confiance . EOS\n",
      "Eval Score (BLEU): 1.140e-01\n",
      "Epoch: 7, Loss: 0.1892\n",
      "input    :  this will help .\n",
      "label    :  ca aidera . EOS\n",
      "predicted:  ca va aider . EOS\n",
      "Eval Score (BLEU): 1.209e-01\n",
      "Epoch: 8, Loss: 0.1872\n",
      "input    :  it s lunch time .\n",
      "label    :  c est l heure de dejeuner . EOS\n",
      "predicted:  il est l heure d aller plus heure . EOS\n",
      "Eval Score (BLEU): 1.315e-01\n",
      "Epoch: 9, Loss: 0.1655\n",
      "input    :  they re not bad .\n",
      "label    :  ils ne sont pas mal . EOS\n",
      "predicted:  elles ne sont pas mal . EOS\n",
      "Eval Score (BLEU): 1.219e-01\n",
      "Epoch: 10, Loss: 0.1746\n",
      "input    :  tom has long arms .\n",
      "label    :  tom a de longs bras . EOS\n",
      "predicted:  tom a de longs bras . EOS\n",
      "Eval Score (BLEU): 1.382e-01\n",
      "Epoch: 11, Loss: 0.1874\n",
      "input    :  this is a mistake .\n",
      "label    :  il s agit d une erreur . EOS\n",
      "predicted:  c est une erreur . EOS\n",
      "Eval Score (BLEU): 1.660e-01\n",
      "Epoch: 12, Loss: 0.2042\n",
      "input    :  i kept reading .\n",
      "label    :  j ai continue a lire . EOS\n",
      "predicted:  j ai continue a lire . EOS\n",
      "Eval Score (BLEU): 1.250e-01\n",
      "Epoch: 13, Loss: 0.1526\n",
      "input    :  any suggestions ?\n",
      "label    :  des suggestions ? EOS\n",
      "predicted:  des suggestions ? EOS\n",
      "Eval Score (BLEU): 1.328e-01\n",
      "Epoch: 14, Loss: 0.1803\n",
      "input    :  this box is light .\n",
      "label    :  cette caisse est legere . EOS\n",
      "predicted:  cette caisse est legere . EOS\n",
      "Eval Score (BLEU): 1.473e-01\n",
      "Epoch: 15, Loss: 0.1605\n",
      "input    :  tom got sunburned .\n",
      "label    :  tom a eu un coup de soleil . EOS\n",
      "predicted:  tom a pris un coup de soleil . EOS\n",
      "Eval Score (BLEU): 1.378e-01\n",
      "Epoch: 16, Loss: 0.1572\n",
      "input    :  you look sick .\n",
      "label    :  vous avez l air malade . EOS\n",
      "predicted:  tu as l air malade . EOS\n",
      "Eval Score (BLEU): 1.335e-01\n",
      "Epoch: 17, Loss: 0.1591\n",
      "input    :  i will warn him .\n",
      "label    :  je l avertirai . EOS\n",
      "predicted:  je l avertirai . EOS\n",
      "Eval Score (BLEU): 1.178e-01\n",
      "Epoch: 18, Loss: 0.1514\n",
      "input    :  it s inevitable .\n",
      "label    :  c est inevitable . EOS\n",
      "predicted:  c est inevitable . EOS\n",
      "Eval Score (BLEU): 1.354e-01\n",
      "Epoch: 19, Loss: 0.1331\n",
      "input    :  i m sorry for you .\n",
      "label    :  je suis desole pour vous . EOS\n",
      "predicted:  je suis desole pour vous . EOS\n",
      "Eval Score (BLEU): 1.565e-01\n",
      "Epoch: 20, Loss: 0.1486\n",
      "input    :  you seem happy .\n",
      "label    :  tu sembles heureux . EOS\n",
      "predicted:  vous semblez heureuse . EOS\n",
      "Eval Score (BLEU): 1.555e-01\n",
      "Epoch: 21, Loss: 0.1270\n",
      "input    :  we re all done .\n",
      "label    :  nous en avons termine . EOS\n",
      "predicted:  nous en avons toutes finies . EOS\n",
      "Eval Score (BLEU): 1.551e-01\n",
      "Epoch: 22, Loss: 0.1405\n",
      "input    :  this seems stupid .\n",
      "label    :  ceci semble stupide . EOS\n",
      "predicted:  ca semble stupide . EOS\n",
      "Eval Score (BLEU): 1.343e-01\n",
      "Epoch: 23, Loss: 0.1579\n",
      "input    :  this is strange .\n",
      "label    :  c est etrange . EOS\n",
      "predicted:  c est etrange . EOS\n",
      "Eval Score (BLEU): 1.523e-01\n"
     ]
    }
   ],
   "source": [
    "checkpoint_dir = \"./data/\"\n",
    "optimizer = tf.keras.optimizers.Adam()\n",
    "checkpoint_prefix = os.path.join(checkpoint_dir, \"ckpt\")\n",
    "checkpoint = tf.train.Checkpoint(optimizer=optimizer,\n",
    "                                 encoder=encoder,\n",
    "                                 decoder=decoder)\n",
    "\n",
    "num_epochs = 50\n",
    "eval_scores = []\n",
    "\n",
    "for e in range(num_epochs):\n",
    "    encoder_state = encoder.init_state(batch_size)\n",
    "    for batch, data in enumerate(train_dataset):\n",
    "        encoder_in, decoder_in, decoder_out = data\n",
    "        loss = train_step(encoder_in, decoder_in, decoder_out, encoder_state)\n",
    "    print(\"Epoch: {}, Loss: {:.4f}\".format(e + 1, loss.numpy()))\n",
    "    if e % 10 == 0:\n",
    "        checkpoint.save(file_prefix=checkpoint_prefix)\n",
    "\n",
    "    predict(encoder, decoder, batch_size, sents_en, data_en, sents_fr_out, word2idx_fr, idx2word_fr)\n",
    "    eval_score = evaluate_bleu_score(encoder, decoder, test_dataset, word2idx_fr, idx2word_fr)\n",
    "    print(\"Eval Score (BLEU): {:.3e}\".format(eval_score))\n",
    "    eval_scores.append(eval_score)\n",
    "\n",
    "checkpoint.save(file_prefix=checkpoint_prefix)"
   ]
  }
 ],
 "metadata": {
  "accelerator": "GPU",
  "colab": {
   "gpuType": "T4",
   "provenance": []
  },
  "kernelspec": {
   "display_name": "Python 3 (ipykernel)",
   "language": "python",
   "name": "python3"
  },
  "language_info": {
   "codemirror_mode": {
    "name": "ipython",
    "version": 3
   },
   "file_extension": ".py",
   "mimetype": "text/x-python",
   "name": "python",
   "nbconvert_exporter": "python",
   "pygments_lexer": "ipython3",
   "version": "3.11.4"
  }
 },
 "nbformat": 4,
 "nbformat_minor": 5
}
