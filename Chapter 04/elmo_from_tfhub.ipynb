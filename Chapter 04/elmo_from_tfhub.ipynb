{
 "cells": [
  {
   "cell_type": "code",
   "execution_count": null,
   "id": "d51990fd",
   "metadata": {},
   "outputs": [],
   "source": [
    "import tensorflow as tf\n",
    "import tensorflow_hub as hub\n",
    "\n",
    "elmo = hub.load(\"https://tfhub.dev/google/elmo/3\")\n",
    "embeddings = elmo.signatures[\"default\"](\n",
    "                tf.constant([\n",
    "                    \"i like green eggs and ham\",\n",
    "                    \"would you eat them in a box\"\n",
    "                ]))[\"elmo\"]\n",
    "print(embeddings.shape)"
   ]
  },
  {
   "cell_type": "code",
   "execution_count": null,
   "id": "01becd25",
   "metadata": {},
   "outputs": [],
   "source": [
    "embed = hub.KerasLayer(\"https://tfhub.dev/google/elmo/3\", input_shape=[], dtype=tf.string)\n",
    "model = tf.keras.Sequential([embed])\n",
    "embeddings = model.predict([\n",
    "    \"i i like green eggs and ham\",\n",
    "    \"would you eat them in a box\"\n",
    "])\n",
    "print(embeddings.shape)"
   ]
  }
 ],
 "metadata": {
  "kernelspec": {
   "display_name": "Python 3 (ipykernel)",
   "language": "python",
   "name": "python3"
  },
  "language_info": {
   "codemirror_mode": {
    "name": "ipython",
    "version": 3
   },
   "file_extension": ".py",
   "mimetype": "text/x-python",
   "name": "python",
   "nbconvert_exporter": "python",
   "pygments_lexer": "ipython3",
   "version": "3.11.4"
  }
 },
 "nbformat": 4,
 "nbformat_minor": 5
}
