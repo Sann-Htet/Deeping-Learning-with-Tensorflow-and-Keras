{
 "cells": [
  {
   "cell_type": "code",
   "execution_count": 1,
   "id": "d61acff3",
   "metadata": {},
   "outputs": [],
   "source": [
    "from gensim.models import KeyedVectors"
   ]
  },
  {
   "cell_type": "code",
   "execution_count": 2,
   "id": "3818bc75",
   "metadata": {},
   "outputs": [],
   "source": [
    "model = KeyedVectors.load(\"data/text8-word2vec.bin\")\n",
    "word_vectors = model.wv"
   ]
  },
  {
   "cell_type": "code",
   "execution_count": 3,
   "id": "49b43dec",
   "metadata": {},
   "outputs": [
    {
     "name": "stdout",
     "output_type": "stream",
     "text": [
      "['the', 'of', 'and', 'one', 'in', 'a', 'to', 'zero', 'nine', 'two']\n"
     ]
    }
   ],
   "source": [
    "words = word_vectors.key_to_index\n",
    "print([x for i, x in enumerate(words) if i < 10])\n",
    "assert(\"king\" in words)"
   ]
  },
  {
   "cell_type": "code",
   "execution_count": 4,
   "id": "2942ea15",
   "metadata": {},
   "outputs": [],
   "source": [
    "def print_most_similar(word_conf_pairs, k):\n",
    "    for i, (word, conf) in enumerate(word_conf_pairs):\n",
    "        print(\"{:.3f} {:s}\".format(conf, word))\n",
    "        if i >= k-1:\n",
    "            break\n",
    "    if k < len(word_conf_pairs):\n",
    "        print(\"...\")"
   ]
  },
  {
   "cell_type": "code",
   "execution_count": 5,
   "id": "31d6cfab",
   "metadata": {},
   "outputs": [
    {
     "name": "stdout",
     "output_type": "stream",
     "text": [
      "0.725 prince\n",
      "0.719 queen\n",
      "0.707 throne\n",
      "0.694 kings\n",
      "0.681 vii\n",
      "...\n"
     ]
    }
   ],
   "source": [
    "print_most_similar(word_vectors.most_similar(\"king\"), 5)"
   ]
  },
  {
   "cell_type": "code",
   "execution_count": 6,
   "id": "1491e44d",
   "metadata": {},
   "outputs": [
    {
     "name": "stdout",
     "output_type": "stream",
     "text": [
      "0.786 germany\n",
      "...\n"
     ]
    }
   ],
   "source": [
    "print_most_similar(word_vectors.most_similar(positive=[\"france\", \"berlin\"],\n",
    "                                             negative=[\"paris\"]), 1)"
   ]
  },
  {
   "cell_type": "code",
   "execution_count": 7,
   "id": "15106e05",
   "metadata": {},
   "outputs": [
    {
     "name": "stdout",
     "output_type": "stream",
     "text": [
      "0.951 germany\n",
      "...\n"
     ]
    }
   ],
   "source": [
    "# Use another similarity distance\n",
    "print_most_similar(word_vectors.most_similar_cosmul(positive=[\"france\", \"berlin\"],\n",
    "                                                    negative=[\"paris\"]), 1)"
   ]
  },
  {
   "cell_type": "code",
   "execution_count": 8,
   "id": "d33171aa",
   "metadata": {},
   "outputs": [
    {
     "name": "stdout",
     "output_type": "stream",
     "text": [
      "singapore\n"
     ]
    }
   ],
   "source": [
    "print(word_vectors.doesnt_match([\"hindus\", \"parsis\", \"singapore\", \"christians\"]))"
   ]
  },
  {
   "cell_type": "code",
   "execution_count": 9,
   "id": "acad9975",
   "metadata": {},
   "outputs": [
    {
     "name": "stdout",
     "output_type": "stream",
     "text": [
      "similarity(man, woman) = 0.730\n",
      "similarity(man, dog) = 0.462\n",
      "similarity(man, whale) = 0.295\n",
      "similarity(man, tree) = 0.347\n"
     ]
    }
   ],
   "source": [
    "for word in [\"woman\", \"dog\", \"whale\", \"tree\"]:\n",
    "    print(\"similarity({:s}, {:s}) = {:.3f}\".format(\n",
    "                            \"man\", word, word_vectors.similarity(\"man\", word)))"
   ]
  },
  {
   "cell_type": "code",
   "execution_count": 10,
   "id": "7efa21a4",
   "metadata": {},
   "outputs": [
    {
     "name": "stdout",
     "output_type": "stream",
     "text": [
      "0.880 malaysia\n",
      "0.838 indonesia\n",
      "0.811 philippines\n",
      "0.808 zambia\n",
      "0.803 thailand\n",
      "...\n",
      "None\n"
     ]
    }
   ],
   "source": [
    "print(print_most_similar(word_vectors.similar_by_word(\"singapore\"), 5))"
   ]
  },
  {
   "cell_type": "code",
   "execution_count": 11,
   "id": "b6fd153b",
   "metadata": {},
   "outputs": [
    {
     "name": "stdout",
     "output_type": "stream",
     "text": [
      "distance(singapore, malaysia) = 0.120\n"
     ]
    }
   ],
   "source": [
    "print(\"distance(singapore, malaysia) = {:.3f}\".format(word_vectors.distance(\"singapore\", \"malaysia\")))"
   ]
  },
  {
   "cell_type": "code",
   "execution_count": 12,
   "id": "b2b3694b",
   "metadata": {},
   "outputs": [
    {
     "name": "stdout",
     "output_type": "stream",
     "text": [
      "vec song (100,)\n",
      "\n",
      "vec_song_2 (100,)\n"
     ]
    }
   ],
   "source": [
    "vec_song = word_vectors[\"song\"]\n",
    "vec_song_2 = word_vectors.get_vector(\"song\", norm=True)\n",
    "print(\"vec song\", vec_song.shape)\n",
    "print(\"\\nvec_song_2\", vec_song_2.shape)"
   ]
  },
  {
   "cell_type": "markdown",
   "id": "79622811",
   "metadata": {},
   "source": [
    "---"
   ]
  }
 ],
 "metadata": {
  "kernelspec": {
   "display_name": "Python 3 (ipykernel)",
   "language": "python",
   "name": "python3"
  },
  "language_info": {
   "codemirror_mode": {
    "name": "ipython",
    "version": 3
   },
   "file_extension": ".py",
   "mimetype": "text/x-python",
   "name": "python",
   "nbconvert_exporter": "python",
   "pygments_lexer": "ipython3",
   "version": "3.11.4"
  }
 },
 "nbformat": 4,
 "nbformat_minor": 5
}
