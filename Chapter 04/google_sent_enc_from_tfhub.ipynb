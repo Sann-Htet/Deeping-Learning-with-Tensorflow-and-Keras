{
 "cells": [
  {
   "cell_type": "code",
   "execution_count": null,
   "id": "e5d1cb71",
   "metadata": {},
   "outputs": [],
   "source": [
    "import tensorflow as tf\n",
    "import tensorflow_hub as hub\n",
    "\n",
    "embed = hub.load(\"https://tfhub.dev/google/universal-sentence-encoder-large/4\")\n",
    "embeddings = embed([\n",
    "    \"i like green eggs and ham\",\n",
    "    \"would you eat them in a box\"\n",
    "])[\"outputs\"]\n",
    "print(embeddings.shape)"
   ]
  }
 ],
 "metadata": {
  "kernelspec": {
   "display_name": "Python 3 (ipykernel)",
   "language": "python",
   "name": "python3"
  },
  "language_info": {
   "codemirror_mode": {
    "name": "ipython",
    "version": 3
   },
   "file_extension": ".py",
   "mimetype": "text/x-python",
   "name": "python",
   "nbconvert_exporter": "python",
   "pygments_lexer": "ipython3",
   "version": "3.11.4"
  }
 },
 "nbformat": 4,
 "nbformat_minor": 5
}
