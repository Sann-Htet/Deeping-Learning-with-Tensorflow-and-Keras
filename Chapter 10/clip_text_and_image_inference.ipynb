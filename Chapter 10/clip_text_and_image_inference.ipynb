{
 "cells": [
  {
   "cell_type": "code",
   "execution_count": 1,
   "id": "194b5a3b",
   "metadata": {},
   "outputs": [
    {
     "name": "stderr",
     "output_type": "stream",
     "text": [
      "2023-09-03 18:24:09.019268: I tensorflow/tsl/cuda/cudart_stub.cc:28] Could not find cuda drivers on your machine, GPU will not be used.\n",
      "2023-09-03 18:24:09.234654: I tensorflow/tsl/cuda/cudart_stub.cc:28] Could not find cuda drivers on your machine, GPU will not be used.\n",
      "2023-09-03 18:24:09.235967: I tensorflow/core/platform/cpu_feature_guard.cc:182] This TensorFlow binary is optimized to use available CPU instructions in performance-critical operations.\n",
      "To enable the following instructions: AVX2 FMA, in other operations, rebuild TensorFlow with the appropriate compiler flags.\n",
      "2023-09-03 18:24:11.373227: W tensorflow/compiler/tf2tensorrt/utils/py_utils.cc:38] TF-TRT Warning: Could not find TensorRT\n"
     ]
    }
   ],
   "source": [
    "import tensorflow as tf\n",
    "from PIL import Image\n",
    "import requests\n",
    "from transformers import CLIPProcessor, TFCLIPModel"
   ]
  },
  {
   "cell_type": "code",
   "execution_count": 2,
   "id": "21154fa9",
   "metadata": {},
   "outputs": [
    {
     "name": "stderr",
     "output_type": "stream",
     "text": [
      "Downloading (…)lve/main/config.json: 100%|█| 4.19k/4.19k [00:00<00:00, 3.22MB/s]\n",
      "Downloading tf_model.h5: 100%|████████████████| 606M/606M [11:30<00:00, 877kB/s]\n",
      "2023-09-03 18:36:34.464855: W tensorflow/core/common_runtime/gpu/gpu_device.cc:1956] Cannot dlopen some GPU libraries. Please make sure the missing libraries mentioned above are installed properly if you would like to use GPU. Follow the guide at https://www.tensorflow.org/install/gpu for how to download and setup the required libraries for your platform.\n",
      "Skipping registering GPU devices...\n",
      "2023-09-03 18:36:36.710202: W tensorflow/tsl/framework/cpu_allocator_impl.cc:83] Allocation of 101187584 exceeds 10% of free system memory.\n",
      "2023-09-03 18:36:36.960348: W tensorflow/tsl/framework/cpu_allocator_impl.cc:83] Allocation of 101187584 exceeds 10% of free system memory.\n",
      "2023-09-03 18:36:36.995000: W tensorflow/tsl/framework/cpu_allocator_impl.cc:83] Allocation of 101187584 exceeds 10% of free system memory.\n",
      "2023-09-03 18:36:38.950635: W tensorflow/tsl/framework/cpu_allocator_impl.cc:83] Allocation of 101187584 exceeds 10% of free system memory.\n",
      "2023-09-03 18:36:39.031829: W tensorflow/tsl/framework/cpu_allocator_impl.cc:83] Allocation of 101187584 exceeds 10% of free system memory.\n",
      "All model checkpoint layers were used when initializing TFCLIPModel.\n",
      "\n",
      "All the layers of TFCLIPModel were initialized from the model checkpoint at openai/clip-vit-base-patch32.\n",
      "If your task is similar to the task the model of the checkpoint was trained on, you can already use TFCLIPModel for predictions without further training.\n",
      "Downloading (…)rocessor_config.json: 100%|██████| 316/316 [00:00<00:00, 686kB/s]\n",
      "Downloading (…)okenizer_config.json: 100%|██████| 568/568 [00:00<00:00, 976kB/s]\n",
      "Downloading (…)olve/main/vocab.json: 100%|███| 862k/862k [00:00<00:00, 1.14MB/s]\n",
      "Downloading (…)olve/main/merges.txt: 100%|███| 525k/525k [00:00<00:00, 1.95MB/s]\n",
      "Downloading (…)/main/tokenizer.json: 100%|█| 2.22M/2.22M [00:02<00:00, 1.00MB/s]\n",
      "Downloading (…)cial_tokens_map.json: 100%|██████| 389/389 [00:00<00:00, 822kB/s]\n"
     ]
    }
   ],
   "source": [
    "model = TFCLIPModel.from_pretrained(\"openai/clip-vit-base-patch32\")\n",
    "processor = CLIPProcessor.from_pretrained(\"openai/clip-vit-base-patch32\")"
   ]
  },
  {
   "cell_type": "code",
   "execution_count": 3,
   "id": "e480dbf9",
   "metadata": {},
   "outputs": [],
   "source": [
    "url = \"http://images.cocodataset.org/val2017/000000039769.jpg\"\n",
    "image = Image.open(requests.get(url, stream=True).raw)\n",
    "texts = [\"a photo of a cat\", \"a photo of a dog\"]\n",
    "inputs = processor(text=texts, images=image, return_tensors=\"tf\", padding=True)"
   ]
  },
  {
   "cell_type": "code",
   "execution_count": 4,
   "id": "88367dd5",
   "metadata": {},
   "outputs": [
    {
     "name": "stdout",
     "output_type": "stream",
     "text": [
      "[[0.994858   0.00514201]]\n"
     ]
    }
   ],
   "source": [
    "outputs = model(**inputs)\n",
    "logits_per_image = outputs.logits_per_image\n",
    "probs = tf.nn.softmax(logits_per_image, axis=1)\n",
    "print(probs.numpy())"
   ]
  },
  {
   "cell_type": "markdown",
   "id": "3055d316",
   "metadata": {},
   "source": [
    "---"
   ]
  }
 ],
 "metadata": {
  "kernelspec": {
   "display_name": "Python 3 (ipykernel)",
   "language": "python",
   "name": "python3"
  },
  "language_info": {
   "codemirror_mode": {
    "name": "ipython",
    "version": 3
   },
   "file_extension": ".py",
   "mimetype": "text/x-python",
   "name": "python",
   "nbconvert_exporter": "python",
   "pygments_lexer": "ipython3",
   "version": "3.11.4"
  }
 },
 "nbformat": 4,
 "nbformat_minor": 5
}
