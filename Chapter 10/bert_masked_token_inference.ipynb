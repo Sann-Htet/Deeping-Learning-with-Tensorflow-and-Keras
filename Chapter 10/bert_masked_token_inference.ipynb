{
 "cells": [
  {
   "cell_type": "code",
   "execution_count": 1,
   "id": "e7bb48ab",
   "metadata": {},
   "outputs": [
    {
     "name": "stderr",
     "output_type": "stream",
     "text": [
      "2023-09-03 10:04:19.671362: I tensorflow/tsl/cuda/cudart_stub.cc:28] Could not find cuda drivers on your machine, GPU will not be used.\n",
      "2023-09-03 10:04:19.833054: I tensorflow/tsl/cuda/cudart_stub.cc:28] Could not find cuda drivers on your machine, GPU will not be used.\n",
      "2023-09-03 10:04:19.834026: I tensorflow/core/platform/cpu_feature_guard.cc:182] This TensorFlow binary is optimized to use available CPU instructions in performance-critical operations.\n",
      "To enable the following instructions: AVX2 FMA, in other operations, rebuild TensorFlow with the appropriate compiler flags.\n",
      "2023-09-03 10:04:21.105391: W tensorflow/compiler/tf2tensorrt/utils/py_utils.cc:38] TF-TRT Warning: Could not find TensorRT\n",
      "2023-09-03 10:04:24.580738: W tensorflow/core/common_runtime/gpu/gpu_device.cc:1956] Cannot dlopen some GPU libraries. Please make sure the missing libraries mentioned above are installed properly if you would like to use GPU. Follow the guide at https://www.tensorflow.org/install/gpu for how to download and setup the required libraries for your platform.\n",
      "Skipping registering GPU devices...\n",
      "2023-09-03 10:04:24.715686: W tensorflow/tsl/framework/cpu_allocator_impl.cc:83] Allocation of 89075712 exceeds 10% of free system memory.\n",
      "2023-09-03 10:04:24.807865: W tensorflow/tsl/framework/cpu_allocator_impl.cc:83] Allocation of 89075712 exceeds 10% of free system memory.\n",
      "2023-09-03 10:04:24.826267: W tensorflow/tsl/framework/cpu_allocator_impl.cc:83] Allocation of 89075712 exceeds 10% of free system memory.\n",
      "2023-09-03 10:04:25.763510: W tensorflow/tsl/framework/cpu_allocator_impl.cc:83] Allocation of 89075712 exceeds 10% of free system memory.\n",
      "2023-09-03 10:04:25.946277: W tensorflow/tsl/framework/cpu_allocator_impl.cc:83] Allocation of 89075712 exceeds 10% of free system memory.\n",
      "All PyTorch model weights were used when initializing TFBertForMaskedLM.\n",
      "\n",
      "All the weights of TFBertForMaskedLM were initialized from the PyTorch model.\n",
      "If your task is similar to the task the model of the checkpoint was trained on, you can already use TFBertForMaskedLM for predictions without further training.\n"
     ]
    }
   ],
   "source": [
    "from transformers import BertTokenizer, TFBertForMaskedLM\n",
    "import tensorflow as tf\n",
    "\n",
    "tokenizer = BertTokenizer.from_pretrained(\"bert-base-cased\")\n",
    "model = TFBertForMaskedLM.from_pretrained(\"bert-base-cased\")"
   ]
  },
  {
   "cell_type": "code",
   "execution_count": 2,
   "id": "ce7b08e3",
   "metadata": {},
   "outputs": [
    {
     "name": "stdout",
     "output_type": "stream",
     "text": [
      "Paris\n"
     ]
    }
   ],
   "source": [
    "inputs = tokenizer(\"The capital of France is [MASK].\", return_tensors=\"tf\")\n",
    "logits = model(**inputs).logits\n",
    "mask_token_index = tf.where(inputs.input_ids == tokenizer.mask_token_id)[0][1]\n",
    "predicted_token_id = tf.math.argmax(logits[:, mask_token_index], axis=-1)\n",
    "print(tokenizer.convert_ids_to_tokens(predicted_token_id)[0])"
   ]
  }
 ],
 "metadata": {
  "kernelspec": {
   "display_name": "Python 3 (ipykernel)",
   "language": "python",
   "name": "python3"
  },
  "language_info": {
   "codemirror_mode": {
    "name": "ipython",
    "version": 3
   },
   "file_extension": ".py",
   "mimetype": "text/x-python",
   "name": "python",
   "nbconvert_exporter": "python",
   "pygments_lexer": "ipython3",
   "version": "3.11.4"
  }
 },
 "nbformat": 4,
 "nbformat_minor": 5
}
