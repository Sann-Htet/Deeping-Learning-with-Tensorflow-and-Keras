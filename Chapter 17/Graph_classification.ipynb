{
 "cells": [
  {
   "cell_type": "code",
   "execution_count": 1,
   "id": "ee208f4a",
   "metadata": {},
   "outputs": [
    {
     "name": "stdout",
     "output_type": "stream",
     "text": [
      "env: DGLBACKEND=tensorflow\n"
     ]
    }
   ],
   "source": [
    "%env DGLBACKEND=tensorflow"
   ]
  },
  {
   "cell_type": "code",
   "execution_count": 2,
   "id": "de581ee3",
   "metadata": {},
   "outputs": [
    {
     "name": "stderr",
     "output_type": "stream",
     "text": [
      "2023-09-11 20:14:50.868803: I tensorflow/tsl/cuda/cudart_stub.cc:28] Could not find cuda drivers on your machine, GPU will not be used.\n",
      "2023-09-11 20:14:50.907388: I tensorflow/tsl/cuda/cudart_stub.cc:28] Could not find cuda drivers on your machine, GPU will not be used.\n",
      "2023-09-11 20:14:50.908017: I tensorflow/core/platform/cpu_feature_guard.cc:182] This TensorFlow binary is optimized to use available CPU instructions in performance-critical operations.\n",
      "To enable the following instructions: AVX2 FMA, in other operations, rebuild TensorFlow with the appropriate compiler flags.\n",
      "2023-09-11 20:14:51.824358: W tensorflow/compiler/tf2tensorrt/utils/py_utils.cc:38] TF-TRT Warning: Could not find TensorRT\n",
      "2023-09-11 20:14:52.776435: W tensorflow/core/common_runtime/gpu/gpu_device.cc:1960] Cannot dlopen some GPU libraries. Please make sure the missing libraries mentioned above are installed properly if you would like to use GPU. Follow the guide at https://www.tensorflow.org/install/gpu for how to download and setup the required libraries for your platform.\n",
      "Skipping registering GPU devices...\n",
      "/home/sann-htet/anaconda3/envs/tensorflow/lib/python3.11/site-packages/tensorflow_addons/utils/tfa_eol_msg.py:23: UserWarning: \n",
      "\n",
      "TensorFlow Addons (TFA) has ended development and introduction of new features.\n",
      "TFA has entered a minimal maintenance and release mode until a planned end of life in May 2024.\n",
      "Please modify downstream libraries to take dependencies from other repositories in our TensorFlow community (e.g. Keras, Keras-CV, and Keras-NLP). \n",
      "\n",
      "For more information see: https://github.com/tensorflow/addons/issues/2807 \n",
      "\n",
      "  warnings.warn(\n"
     ]
    }
   ],
   "source": [
    "import dgl.data\n",
    "import tensorflow as tf\n",
    "import tensorflow_addons as tfa\n",
    "from dgl.nn import GraphConv\n",
    "from sklearn.model_selection import train_test_split"
   ]
  },
  {
   "cell_type": "code",
   "execution_count": 3,
   "id": "15e078d1",
   "metadata": {},
   "outputs": [
    {
     "name": "stdout",
     "output_type": "stream",
     "text": [
      "node feature dimensionality: 3\n",
      "number of graph categories: 2\n",
      "number of graphs in dataset: 1113\n"
     ]
    }
   ],
   "source": [
    "dataset = dgl.data.GINDataset(\"PROTEINS\", self_loop=True)\n",
    "print(\"node feature dimensionality:\", dataset.dim_nfeats)\n",
    "print(\"number of graph categories:\", dataset.gclasses)\n",
    "print(\"number of graphs in dataset:\", len(dataset))"
   ]
  },
  {
   "cell_type": "code",
   "execution_count": 4,
   "id": "961aa38a",
   "metadata": {},
   "outputs": [
    {
     "name": "stdout",
     "output_type": "stream",
     "text": [
      "801 89 223\n"
     ]
    }
   ],
   "source": [
    "tv_dataset, test_dataset = train_test_split(dataset, shuffle=True, test_size=0.2)\n",
    "train_dataset, val_dataset = train_test_split(tv_dataset, test_size=0.1)\n",
    "print(len(train_dataset), len(val_dataset), len(test_dataset))"
   ]
  },
  {
   "cell_type": "code",
   "execution_count": 5,
   "id": "77d8666d",
   "metadata": {},
   "outputs": [],
   "source": [
    "class GraphClassifier(tf.keras.Model):\n",
    "    def __init__(self, in_feats, h_feats, num_classes):\n",
    "        super(GraphClassifier, self).__init__()\n",
    "        self.conv1 = GraphConv(in_feats, h_feats, activation=tf.nn.relu)\n",
    "        self.conv2 = GraphConv(h_feats, num_classes)\n",
    "\n",
    "    def call(self, g, in_feat):\n",
    "        h = self.conv1(g, in_feat)\n",
    "        h = self.conv2(g, h)\n",
    "        g.ndata[\"h\"] = h\n",
    "        return dgl.mean_nodes(g, \"h\")"
   ]
  },
  {
   "cell_type": "code",
   "execution_count": 6,
   "id": "5a8176b9",
   "metadata": {},
   "outputs": [],
   "source": [
    "def set_gpu_if_available():\n",
    "    device=\"/cpu:0\"\n",
    "    gpus = tf.config.list_physical_devices(\"GPU\")\n",
    "    if len(gpus) > 0:\n",
    "        device = gpus[0]\n",
    "    return device"
   ]
  },
  {
   "cell_type": "code",
   "execution_count": 7,
   "id": "0ae1aa21",
   "metadata": {},
   "outputs": [],
   "source": [
    "HIDDEN_SIZE = 16\n",
    "BATCH_SIZE = 16\n",
    "LEARNING_RATE = 1e-2\n",
    "NUM_EPOCHS = 20\n",
    "\n",
    "device = set_gpu_if_available()\n",
    "\n",
    "def do_eval(model, dataset):\n",
    "    total_acc, total_recs = 0, 0\n",
    "    indexes = tf.data.Dataset.from_tensor_slices(range(len(dataset)))\n",
    "    indexes = indexes.batch(batch_size=BATCH_SIZE)\n",
    "    \n",
    "    for batched_indexes in indexes:\n",
    "        graphs, labels = zip(*[dataset[i] for i in batched_indexes])\n",
    "        batched_graphs = dgl.batch(graphs)\n",
    "        batched_labels = tf.convert_to_tensor(labels, dtype=tf.int64)\n",
    "        batched_graphs = batched_graphs.to(device)\n",
    "        logits = model(batched_graphs, batched_graphs.ndata[\"attr\"])\n",
    "        batched_preds = tf.math.argmax(logits, axis=1)\n",
    "        acc = tf.reduce_sum(tf.cast(batched_preds == batched_labels, dtype=tf.float32))\n",
    "        total_acc += acc.numpy().item()\n",
    "        total_recs += len(batched_labels)\n",
    "        return total_acc / total_recs"
   ]
  },
  {
   "cell_type": "code",
   "execution_count": 8,
   "id": "1b1515e8",
   "metadata": {},
   "outputs": [
    {
     "name": "stdout",
     "output_type": "stream",
     "text": [
      "Epoch  19 | train_loss: 31.343 | val_acc: 0.812\n"
     ]
    }
   ],
   "source": [
    "with tf.device(device):\n",
    "    model = GraphClassifier(\n",
    "        dataset.dim_nfeats, HIDDEN_SIZE, dataset.gclasses)\n",
    "    optimizer = tf.keras.optimizers.Adam(learning_rate=LEARNING_RATE)\n",
    "    loss_fcn = tf.keras.losses.SparseCategoricalCrossentropy(from_logits=True)\n",
    "    \n",
    "    train_indexes = tf.data.Dataset.from_tensor_slices(range(len(train_dataset)))\n",
    "    train_indexes = train_indexes.batch(batch_size=BATCH_SIZE)\n",
    "    \n",
    "    for epoch in range(NUM_EPOCHS):\n",
    "        total_loss = 0\n",
    "        for batched_indexes in train_indexes:\n",
    "            with tf.GradientTape() as tape:\n",
    "                graphs, labels = zip(*[train_dataset[i] for i in batched_indexes])\n",
    "                batched_graphs = dgl.batch(graphs)\n",
    "                batched_labels = tf.convert_to_tensor(labels, dtype=tf.int32)\n",
    "                batched_graphs = batched_graphs.to(device)\n",
    "                logits = model(batched_graphs, batched_graphs.ndata[\"attr\"])\n",
    "                loss = loss_fcn(batched_labels, logits)\n",
    "            grads = tape.gradient(loss, model.trainable_weights)\n",
    "            optimizer.apply_gradients(zip(grads, model.trainable_weights))\n",
    "            total_loss += loss.numpy().item()\n",
    "    val_acc = do_eval(model, val_dataset)\n",
    "    print(\"Epoch {:3d} | train_loss: {:.3f} | val_acc: {:.3f}\".format(\n",
    "    epoch, total_loss, val_acc))"
   ]
  },
  {
   "cell_type": "code",
   "execution_count": 9,
   "id": "2c74c5d6",
   "metadata": {},
   "outputs": [
    {
     "name": "stdout",
     "output_type": "stream",
     "text": [
      "test accuracy: 0.750\n"
     ]
    }
   ],
   "source": [
    "test_acc = do_eval(model, test_dataset)\n",
    "print(\"test accuracy: {:.3f}\".format(test_acc))"
   ]
  }
 ],
 "metadata": {
  "kernelspec": {
   "display_name": "Python 3 (ipykernel)",
   "language": "python",
   "name": "python3"
  },
  "language_info": {
   "codemirror_mode": {
    "name": "ipython",
    "version": 3
   },
   "file_extension": ".py",
   "mimetype": "text/x-python",
   "name": "python",
   "nbconvert_exporter": "python",
   "pygments_lexer": "ipython3",
   "version": "3.11.4"
  }
 },
 "nbformat": 4,
 "nbformat_minor": 5
}
