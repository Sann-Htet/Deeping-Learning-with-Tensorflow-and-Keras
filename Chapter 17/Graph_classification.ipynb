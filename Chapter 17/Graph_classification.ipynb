{
 "cells": [
  {
   "cell_type": "code",
   "execution_count": null,
   "id": "de581ee3",
   "metadata": {},
   "outputs": [],
   "source": [
    "import dgl.data\n",
    "import tensorflow as tf\n",
    "import tensorflow_addons as tfa\n",
    "from dgl.nn import GraphConv\n",
    "from sklearn.model_selection import train_test_split"
   ]
  },
  {
   "cell_type": "code",
   "execution_count": null,
   "id": "15e078d1",
   "metadata": {},
   "outputs": [],
   "source": [
    "dataset = dgl.data.GINDataset(\"PROTEINS\", self_loop=True)\n",
    "print(\"node feature dimensionality:\", dataset.dim_nfeats)\n",
    "print(\"number of graph categories:\", dataset.gclasses)\n",
    "print(\"number of graphs in dataset:\", len(dataset))"
   ]
  },
  {
   "cell_type": "code",
   "execution_count": null,
   "id": "961aa38a",
   "metadata": {},
   "outputs": [],
   "source": [
    "tv_dataset, test_dataset = train_test_split(dataset, shuffle=True, test_size=0.2)\n",
    "train_dataset, val_dataset = train_test_split(tv_dataset, test_size=0.1)\n",
    "print(len(train_dataset), len(val_dataset), len(test_dataset))"
   ]
  },
  {
   "cell_type": "code",
   "execution_count": 1,
   "id": "77d8666d",
   "metadata": {},
   "outputs": [
    {
     "ename": "NameError",
     "evalue": "name 'tf' is not defined",
     "output_type": "error",
     "traceback": [
      "\u001b[0;31m---------------------------------------------------------------------------\u001b[0m",
      "\u001b[0;31mNameError\u001b[0m                                 Traceback (most recent call last)",
      "Cell \u001b[0;32mIn[1], line 1\u001b[0m\n\u001b[0;32m----> 1\u001b[0m \u001b[38;5;28;01mclass\u001b[39;00m \u001b[38;5;21;01mGraphClassifier\u001b[39;00m(tf\u001b[38;5;241m.\u001b[39mkeras\u001b[38;5;241m.\u001b[39mModel):\n\u001b[1;32m      2\u001b[0m     \u001b[38;5;28;01mdef\u001b[39;00m \u001b[38;5;21m__init__\u001b[39m(\u001b[38;5;28mself\u001b[39m, in_feats, h_feats, num_classes):\n\u001b[1;32m      3\u001b[0m         \u001b[38;5;28msuper\u001b[39m(GraphClassifier, \u001b[38;5;28mself\u001b[39m)\u001b[38;5;241m.\u001b[39m\u001b[38;5;21m__init__\u001b[39m()\n",
      "\u001b[0;31mNameError\u001b[0m: name 'tf' is not defined"
     ]
    }
   ],
   "source": [
    "class GraphClassifier(tf.keras.Model):\n",
    "    def __init__(self, in_feats, h_feats, num_classes):\n",
    "        super(GraphClassifier, self).__init__()\n",
    "        self.conv1 = GraphConv(in_feats, h_feats, activation=tf.nn.relu)\n",
    "        self.conv2 = GraphConv(h_feats, num_classes)\n",
    "\n",
    "    def call(self, g, in_feat):\n",
    "        h = self.conv1(g, in_feat)\n",
    "        h = self.conv2(g, h)\n",
    "        g.ndata[\"h\"] = h\n",
    "        return dgl.mean_nodes(g, \"h\")"
   ]
  },
  {
   "cell_type": "code",
   "execution_count": null,
   "id": "5a8176b9",
   "metadata": {},
   "outputs": [],
   "source": [
    "def set_gup_if_avaliable():\n",
    "    device=\"/cpu:0\"\n",
    "    gpus = tf.config.list_physical_devices(\"GPU\")\n",
    "    if len(gpus) > 0:\n",
    "        device = gpus[0]\n",
    "    return device"
   ]
  },
  {
   "cell_type": "code",
   "execution_count": null,
   "id": "0ae1aa21",
   "metadata": {},
   "outputs": [],
   "source": [
    "HIDDEN_SIZE = 16\n",
    "BATCH_SIZE = 16\n",
    "LEARNING_RATE = 1e-2\n",
    "NUM_EPOCHS = 20\n",
    "\n",
    "device = set_gpu_if_available()\n",
    "\n",
    "def do_eval(model, dataset):\n",
    "    total_acc, total_recs = 0, 0\n",
    "    indexes = tf.data.Dataset.from_tensor_slices(range(len(dataset)))\n",
    "    indexes = indexes.batch(batch_size=BATCH_SIZE)\n",
    "    \n",
    "    for batched_indexes in indexes:\n",
    "        graphs, labels = zip(*[dataset[i] for i in batched_indexes])\n",
    "        batched_graphs = dgl.batch(graphs)\n",
    "        batched_labels = tf.convert_to_tensor(labels, dtype=tf.int64)\n",
    "        batched_graphs = batched_graphs.to(device)\n",
    "        logits = model(batched_graphs, batched_graphs.ndata[\"attr\"])\n",
    "        batched_preds = tf.math.argmax(logits, axis=1)\n",
    "        acc = tf.reduce_sum(tf.cast(batched_preds == batched_labels, dtype=tf.float32))\n",
    "        total_acc += acc.numpy().item()\n",
    "        total_recs += len(batched_labels)\n",
    "        return total_acc / total_recs"
   ]
  },
  {
   "cell_type": "code",
   "execution_count": null,
   "id": "1b1515e8",
   "metadata": {},
   "outputs": [],
   "source": [
    "with tf.device(device):\n",
    "    model = GraphClassifier(\n",
    "        dataset.dim_nfeats, HIDDEN_SIZE, dataset.gclasses)\n",
    "    optimizer = tf.keras.optimizers.Adam(learning_rate=LEARNING_RATE)\n",
    "    loss_fcn = tf.keras.losses.SparseCategoricalCrossentropy(from_logits=True)\n",
    "    \n",
    "    train_indexes = tf.data.Dataset.from_tensor_slices(range(len(train_dataset)))\n",
    "    train_indexes = train_indexes.batch(batch_size=BATCH_SIZE)\n",
    "    \n",
    "    for epoch in range(NUM_EPOCHS):\n",
    "        total_loss = 0\n",
    "        for batched_indexes in train_indexes:\n",
    "            with tf.GradientTape() as tape:\n",
    "                graphs, labels = zip(*[train_dataset[i] for i in batched_indexes])\n",
    "                batched_graphs = dgl.batch(graphs)\n",
    "                batched_labels = tf.convert_to_tensor(labels, dtype=tf.int32)\n",
    "                batched_graphs = batched_graphs.to(device)\n",
    "                logits = model(batched_graphs, batched_graphs.ndata[\"attr\"])\n",
    "                loss = loss_fcn(batched_labels, logits)\n",
    "            grads = tape.gradient(loss, model.trainable_weights)\n",
    "            optimizer.apply_gradients(zip(grads, model.trainable_weights))\n",
    "            total_loss += loss.numpy().item()\n",
    "    val_acc = do_eval(model, val_dataset)\n",
    "    print(\"Epoch {:3d} | train_loss: {:.3f} | val_acc: {:.3f}\".format(\n",
    "    epoch, total_loss, val_acc))"
   ]
  },
  {
   "cell_type": "code",
   "execution_count": null,
   "id": "2c74c5d6",
   "metadata": {},
   "outputs": [],
   "source": [
    "test_acc = do_eval(model, test_dataset)\n",
    "print(\"test accuracy: {:.3f}\".format(test_acc))"
   ]
  }
 ],
 "metadata": {
  "kernelspec": {
   "display_name": "Python 3 (ipykernel)",
   "language": "python",
   "name": "python3"
  },
  "language_info": {
   "codemirror_mode": {
    "name": "ipython",
    "version": 3
   },
   "file_extension": ".py",
   "mimetype": "text/x-python",
   "name": "python",
   "nbconvert_exporter": "python",
   "pygments_lexer": "ipython3",
   "version": "3.11.4"
  }
 },
 "nbformat": 4,
 "nbformat_minor": 5
}
