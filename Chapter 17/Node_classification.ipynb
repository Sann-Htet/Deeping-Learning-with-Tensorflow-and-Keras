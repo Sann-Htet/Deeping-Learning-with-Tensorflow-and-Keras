{
 "cells": [
  {
   "cell_type": "code",
   "execution_count": 1,
   "id": "95fc66e9",
   "metadata": {},
   "outputs": [
    {
     "name": "stdout",
     "output_type": "stream",
     "text": [
      "env: DGLBACKEND=tensorflow\n"
     ]
    }
   ],
   "source": [
    "%env DGLBACKEND=tensorflow"
   ]
  },
  {
   "cell_type": "code",
   "execution_count": 2,
   "id": "0adda943",
   "metadata": {},
   "outputs": [
    {
     "name": "stderr",
     "output_type": "stream",
     "text": [
      "2023-09-11 20:00:54.628976: I tensorflow/tsl/cuda/cudart_stub.cc:28] Could not find cuda drivers on your machine, GPU will not be used.\n",
      "2023-09-11 20:00:54.666758: I tensorflow/tsl/cuda/cudart_stub.cc:28] Could not find cuda drivers on your machine, GPU will not be used.\n",
      "2023-09-11 20:00:54.667515: I tensorflow/core/platform/cpu_feature_guard.cc:182] This TensorFlow binary is optimized to use available CPU instructions in performance-critical operations.\n",
      "To enable the following instructions: AVX2 FMA, in other operations, rebuild TensorFlow with the appropriate compiler flags.\n",
      "2023-09-11 20:00:55.580039: W tensorflow/compiler/tf2tensorrt/utils/py_utils.cc:38] TF-TRT Warning: Could not find TensorRT\n",
      "2023-09-11 20:00:56.557685: W tensorflow/core/common_runtime/gpu/gpu_device.cc:1960] Cannot dlopen some GPU libraries. Please make sure the missing libraries mentioned above are installed properly if you would like to use GPU. Follow the guide at https://www.tensorflow.org/install/gpu for how to download and setup the required libraries for your platform.\n",
      "Skipping registering GPU devices...\n",
      "/home/sann-htet/anaconda3/envs/tensorflow/lib/python3.11/site-packages/tensorflow_addons/utils/tfa_eol_msg.py:23: UserWarning: \n",
      "\n",
      "TensorFlow Addons (TFA) has ended development and introduction of new features.\n",
      "TFA has entered a minimal maintenance and release mode until a planned end of life in May 2024.\n",
      "Please modify downstream libraries to take dependencies from other repositories in our TensorFlow community (e.g. Keras, Keras-CV, and Keras-NLP). \n",
      "\n",
      "For more information see: https://github.com/tensorflow/addons/issues/2807 \n",
      "\n",
      "  warnings.warn(\n"
     ]
    }
   ],
   "source": [
    "import dgl\n",
    "import tensorflow as tf\n",
    "import tensorflow_addons as tfa\n",
    "from dgl.nn.tensorflow import GraphConv"
   ]
  },
  {
   "cell_type": "code",
   "execution_count": 3,
   "id": "a850752b",
   "metadata": {},
   "outputs": [
    {
     "name": "stdout",
     "output_type": "stream",
     "text": [
      "Downloading /home/sann-htet/.dgl/cora_v2.zip from https://data.dgl.ai/dataset/cora_v2.zip...\n",
      "Extracting file to /home/sann-htet/.dgl/cora_v2_d697a464\n",
      "Finished data loading and preprocessing.\n",
      "  NumNodes: 2708\n",
      "  NumEdges: 10556\n",
      "  NumFeats: 1433\n",
      "  NumClasses: 7\n",
      "  NumTrainingSamples: 140\n",
      "  NumValidationSamples: 500\n",
      "  NumTestSamples: 1000\n",
      "Done saving data into cached files.\n"
     ]
    }
   ],
   "source": [
    "dataset = dgl.data.CoraGraphDataset()"
   ]
  },
  {
   "cell_type": "code",
   "execution_count": 4,
   "id": "97faad40",
   "metadata": {},
   "outputs": [],
   "source": [
    "class NodeClassifier(tf.keras.Model):\n",
    "    def __init__(self, g, in_feats, h_feats, num_classes):\n",
    "        super(NodeClassifier, self).__init__()\n",
    "        self.g = g\n",
    "        self.conv1 = GraphConv(in_feats, h_feats, activation=tf.nn.relu)\n",
    "        self.conv2 = GraphConv(h_feats, num_classes)\n",
    "        \n",
    "    def call(self, in_feat):\n",
    "        h = self.conv1(self.g, in_feat)\n",
    "        h = self.conv2(self.g, h)\n",
    "        return h\n",
    "    \n",
    "g = dataset[0]\n",
    "model = NodeClassifier(g, g.ndata[\"feat\"].shape[1], 16, dataset.num_classes)"
   ]
  },
  {
   "cell_type": "code",
   "execution_count": 5,
   "id": "1bdcd866",
   "metadata": {},
   "outputs": [],
   "source": [
    "def set_gup_if_avaliable():\n",
    "    device=\"/cpu:0\"\n",
    "    gpus = tf.config.list_physical_devices(\"GPU\")\n",
    "    if len(gpus) > 0:\n",
    "        device = gpus[0]\n",
    "    return device\n",
    "\n",
    "device = set_gup_if_avaliable()\n",
    "g = g.to(device)"
   ]
  },
  {
   "cell_type": "code",
   "execution_count": 6,
   "id": "29d657f4",
   "metadata": {},
   "outputs": [],
   "source": [
    "def do_eval(model, features, labels, mask):\n",
    "    logits = model(features, training=False)\n",
    "    logits = logits[mask]\n",
    "    labels = labels[mask]\n",
    "    preds = tf.math.argmax(logits, axis=1)\n",
    "    acc = tf.reduce_mean(tf.cast(preds == labels, dtype=tf.float32))\n",
    "    return acc.numpy().item()"
   ]
  },
  {
   "cell_type": "code",
   "execution_count": 7,
   "id": "d4a77028",
   "metadata": {},
   "outputs": [
    {
     "name": "stdout",
     "output_type": "stream",
     "text": [
      "Epoch   0 | train loss: 1.945 | val acc: 0.186\n",
      "Epoch  10 | train loss: 1.791 | val acc: 0.516\n",
      "Epoch  20 | train loss: 1.551 | val acc: 0.610\n",
      "Epoch  30 | train loss: 1.248 | val acc: 0.656\n",
      "Epoch  40 | train loss: 0.925 | val acc: 0.686\n",
      "Epoch  50 | train loss: 0.638 | val acc: 0.722\n",
      "Epoch  60 | train loss: 0.423 | val acc: 0.748\n",
      "Epoch  70 | train loss: 0.282 | val acc: 0.762\n",
      "Epoch  80 | train loss: 0.193 | val acc: 0.774\n",
      "Epoch  90 | train loss: 0.138 | val acc: 0.782\n",
      "Epoch 100 | train loss: 0.103 | val acc: 0.780\n",
      "Epoch 110 | train loss: 0.079 | val acc: 0.782\n",
      "Epoch 120 | train loss: 0.064 | val acc: 0.780\n",
      "Epoch 130 | train loss: 0.052 | val acc: 0.778\n",
      "Epoch 140 | train loss: 0.044 | val acc: 0.774\n",
      "Epoch 150 | train loss: 0.038 | val acc: 0.776\n",
      "Epoch 160 | train loss: 0.033 | val acc: 0.776\n",
      "Epoch 170 | train loss: 0.029 | val acc: 0.778\n",
      "Epoch 180 | train loss: 0.026 | val acc: 0.776\n",
      "Epoch 190 | train loss: 0.024 | val acc: 0.778\n"
     ]
    }
   ],
   "source": [
    "NUM_HIDDEN = 16\n",
    "LEARNING_RATE = 1e-2\n",
    "WEIGHT_DECAY = 5e-4\n",
    "NUM_EPOCHS = 200\n",
    "\n",
    "with tf.device(device):\n",
    "    feats = g.ndata[\"feat\"]\n",
    "    labels = g.ndata[\"label\"]\n",
    "    train_mask = g.ndata[\"train_mask\"]\n",
    "    val_mask = g.ndata[\"val_mask\"]\n",
    "    test_mask = g.ndata[\"test_mask\"]\n",
    "    in_feats = feats.shape[1]\n",
    "    n_classes = dataset.num_classes\n",
    "    n_edges = dataset[0].number_of_edges()\n",
    "    \n",
    "    model = NodeClassifier(g, in_feats, NUM_HIDDEN, n_classes)\n",
    "    loss_fcn = tf.keras.losses.SparseCategoricalCrossentropy(from_logits=True)\n",
    "    optimizer = tfa.optimizers.AdamW(learning_rate=LEARNING_RATE, weight_decay=WEIGHT_DECAY)\n",
    "    \n",
    "    best_val_acc, best_test_acc = 0, 0\n",
    "    history = []\n",
    "    for epoch in range(NUM_EPOCHS):\n",
    "        with tf.GradientTape() as tape:\n",
    "            logits = model(feats)\n",
    "            loss = loss_fcn(labels[train_mask], logits[train_mask])\n",
    "        grads = tape.gradient(loss, model.trainable_weights)\n",
    "        optimizer.apply_gradients(zip(grads, model.trainable_weights))\n",
    "        \n",
    "        val_acc = do_eval(model, feats, labels, val_mask)\n",
    "        history.append((epoch + 1, loss.numpy().item(), val_acc))\n",
    "        \n",
    "        if epoch % 10 == 0:\n",
    "            print(\"Epoch {:3d} | train loss: {:.3f} | val acc: {:.3f}\".format(epoch, loss.numpy().item(), val_acc))"
   ]
  },
  {
   "cell_type": "code",
   "execution_count": 8,
   "id": "f87901aa",
   "metadata": {},
   "outputs": [
    {
     "name": "stdout",
     "output_type": "stream",
     "text": [
      "Test acc: 0.755\n"
     ]
    }
   ],
   "source": [
    "test_acc = do_eval(model, feats, labels, test_mask)\n",
    "print(\"Test acc: {:.3f}\".format(test_acc))"
   ]
  }
 ],
 "metadata": {
  "kernelspec": {
   "display_name": "Python 3 (ipykernel)",
   "language": "python",
   "name": "python3"
  },
  "language_info": {
   "codemirror_mode": {
    "name": "ipython",
    "version": 3
   },
   "file_extension": ".py",
   "mimetype": "text/x-python",
   "name": "python",
   "nbconvert_exporter": "python",
   "pygments_lexer": "ipython3",
   "version": "3.11.4"
  }
 },
 "nbformat": 4,
 "nbformat_minor": 5
}
