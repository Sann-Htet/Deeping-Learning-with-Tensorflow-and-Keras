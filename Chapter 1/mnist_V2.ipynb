{
 "cells": [
  {
   "cell_type": "markdown",
   "id": "91c8807a",
   "metadata": {},
   "source": [
    "# A real example: recognizing handwritten digits\n",
    "## Improving the simple net in TensorFlow with hidden layers\n",
    "This is an improved version of mnist v1 by introducing two hidden layers in the architecture.\n",
    "We use **MNIST** (http://yann.lecun.com/exdb/mnist/), a database of handwritten digits made up of a\n",
    "training set of 60,000 examples, and a test set of 10,000 examples.Each MNIST image is in grayscale and consists of 28 x 28 pixels."
   ]
  },
  {
   "cell_type": "code",
   "execution_count": 1,
   "id": "b4cb05f7",
   "metadata": {},
   "outputs": [
    {
     "name": "stderr",
     "output_type": "stream",
     "text": [
      "2023-07-13 21:10:32.649767: I tensorflow/core/platform/cpu_feature_guard.cc:182] This TensorFlow binary is optimized to use available CPU instructions in performance-critical operations.\n",
      "To enable the following instructions: AVX2 FMA, in other operations, rebuild TensorFlow with the appropriate compiler flags.\n",
      "2023-07-13 21:10:34.424777: W tensorflow/compiler/tf2tensorrt/utils/py_utils.cc:38] TF-TRT Warning: Could not find TensorRT\n"
     ]
    }
   ],
   "source": [
    "# import required libraries\n",
    "import tensorflow as tf\n",
    "import numpy as np\n",
    "from tensorflow import keras"
   ]
  },
  {
   "cell_type": "code",
   "execution_count": 2,
   "id": "3591485e",
   "metadata": {},
   "outputs": [],
   "source": [
    "# Network and training parameters\n",
    "EPOCHS = 50\n",
    "BATCH_SIZE = 128\n",
    "VERBOSE = 1\n",
    "NB_CLASSES = 10 # number of digits\n",
    "NB_HIDDEN = 128\n",
    "VALIDATION_SPLIT = 0.2 # how much TRAIN is reserved for VALIDATION"
   ]
  },
  {
   "cell_type": "code",
   "execution_count": 3,
   "id": "f0bff49a",
   "metadata": {},
   "outputs": [],
   "source": [
    "# Loading MNIST dataset.\n",
    "# verify\n",
    "# We can verify that the split between train and test is 60,000, and 10,000respectively.\n",
    "# Labels have one-hot representation.is automatically applied\n",
    "mnist = keras.datasets.mnist\n",
    "# load data\n",
    "(X_train, Y_train), (X_test, Y_test) = mnist.load_data()"
   ]
  },
  {
   "cell_type": "code",
   "execution_count": 4,
   "id": "f534a654",
   "metadata": {},
   "outputs": [],
   "source": [
    "# X_train is 60000 rows of 28x28 values; we --> reshape it to 60000 x 784.\n",
    "RESHAPED = 784\n",
    "X_train = X_train.reshape(60000, RESHAPED)\n",
    "X_test = X_test.reshape(10000, RESHAPED)\n",
    "X_train = X_train.astype('float32')\n",
    "X_test = X_test.astype('float32')"
   ]
  },
  {
   "cell_type": "code",
   "execution_count": 5,
   "id": "1ff76a66",
   "metadata": {},
   "outputs": [
    {
     "name": "stdout",
     "output_type": "stream",
     "text": [
      "60000 train samples\n",
      "10000 test samples\n"
     ]
    }
   ],
   "source": [
    "# Normalize inputs to be within in [0, 1].\n",
    "X_train /= 255\n",
    "X_test /= 255\n",
    "print(X_train.shape[0], \"train samples\")\n",
    "print(X_test.shape[0], \"test samples\")"
   ]
  },
  {
   "cell_type": "code",
   "execution_count": 6,
   "id": "eff9d4bf",
   "metadata": {},
   "outputs": [],
   "source": [
    "# One-hot representation of the labels.\n",
    "Y_train = tf.keras.utils.to_categorical(Y_train, NB_CLASSES)\n",
    "Y_test = tf.keras.utils.to_categorical(Y_test, NB_CLASSES)"
   ]
  },
  {
   "cell_type": "code",
   "execution_count": 7,
   "id": "47651fdb",
   "metadata": {},
   "outputs": [
    {
     "name": "stderr",
     "output_type": "stream",
     "text": [
      "2023-07-13 21:10:39.095335: I tensorflow/core/common_runtime/gpu/gpu_device.cc:1635] Created device /job:localhost/replica:0/task:0/device:GPU:0 with 1588 MB memory:  -> device: 0, name: NVIDIA GeForce MX130, pci bus id: 0000:01:00.0, compute capability: 5.0\n"
     ]
    }
   ],
   "source": [
    "# Build the model.\n",
    "model = tf.keras.Sequential()\n",
    "model.add(tf.keras.layers.Dense(NB_HIDDEN,\n",
    "                               input_shape=(RESHAPED,),\n",
    "                               name='dense_layer_1',\n",
    "                               activation='relu'))\n",
    "model.add(tf.keras.layers.Dense(NB_HIDDEN,\n",
    "                               name='dense_layer_2',\n",
    "                               activation='relu'))\n",
    "model.add(tf.keras.layers.Dense(NB_CLASSES,\n",
    "                               name='dense_layer_3',\n",
    "                               activation='softmax'))"
   ]
  },
  {
   "cell_type": "code",
   "execution_count": 8,
   "id": "f52731a9",
   "metadata": {},
   "outputs": [
    {
     "name": "stdout",
     "output_type": "stream",
     "text": [
      "Model: \"sequential\"\n",
      "_________________________________________________________________\n",
      " Layer (type)                Output Shape              Param #   \n",
      "=================================================================\n",
      " dense_layer_1 (Dense)       (None, 128)               100480    \n",
      "                                                                 \n",
      " dense_layer_2 (Dense)       (None, 128)               16512     \n",
      "                                                                 \n",
      " dense_layer_3 (Dense)       (None, 10)                1290      \n",
      "                                                                 \n",
      "=================================================================\n",
      "Total params: 118,282\n",
      "Trainable params: 118,282\n",
      "Non-trainable params: 0\n",
      "_________________________________________________________________\n"
     ]
    }
   ],
   "source": [
    "# See the architecture of the model\n",
    "model.summary()"
   ]
  },
  {
   "cell_type": "code",
   "execution_count": 9,
   "id": "cc831f97",
   "metadata": {},
   "outputs": [],
   "source": [
    "# Compiling the model.\n",
    "model.compile(optimizer='SGD',\n",
    "             loss='categorical_crossentropy',\n",
    "             metrics=['accuracy'])"
   ]
  },
  {
   "cell_type": "markdown",
   "id": "d951abef",
   "metadata": {},
   "source": [
    "### We are now training a multi-layer network."
   ]
  },
  {
   "cell_type": "code",
   "execution_count": 10,
   "id": "d4599189",
   "metadata": {},
   "outputs": [
    {
     "name": "stderr",
     "output_type": "stream",
     "text": [
      "2023-07-13 21:10:39.349181: W tensorflow/tsl/framework/cpu_allocator_impl.cc:83] Allocation of 150528000 exceeds 10% of free system memory.\n",
      "2023-07-13 21:10:39.596089: W tensorflow/tsl/framework/cpu_allocator_impl.cc:83] Allocation of 150528000 exceeds 10% of free system memory.\n"
     ]
    },
    {
     "name": "stdout",
     "output_type": "stream",
     "text": [
      "Epoch 1/50\n"
     ]
    },
    {
     "name": "stderr",
     "output_type": "stream",
     "text": [
      "2023-07-13 21:10:41.437272: I tensorflow/compiler/xla/service/service.cc:169] XLA service 0x7efa28ae2b20 initialized for platform CUDA (this does not guarantee that XLA will be used). Devices:\n",
      "2023-07-13 21:10:41.437314: I tensorflow/compiler/xla/service/service.cc:177]   StreamExecutor device (0): NVIDIA GeForce MX130, Compute Capability 5.0\n",
      "2023-07-13 21:10:41.762040: I tensorflow/compiler/xla/stream_executor/cuda/cuda_dnn.cc:424] Loaded cuDNN version 8903\n",
      "2023-07-13 21:10:42.012221: I ./tensorflow/compiler/jit/device_compiler.h:180] Compiled cluster using XLA!  This line is logged at most once for the lifetime of the process.\n"
     ]
    },
    {
     "name": "stdout",
     "output_type": "stream",
     "text": [
      "375/375 [==============================] - ETA: 0s - loss: 1.4997 - accuracy: 0.6230"
     ]
    },
    {
     "name": "stderr",
     "output_type": "stream",
     "text": [
      "2023-07-13 21:10:44.126740: W tensorflow/tsl/framework/cpu_allocator_impl.cc:83] Allocation of 37632000 exceeds 10% of free system memory.\n",
      "2023-07-13 21:10:44.208576: W tensorflow/tsl/framework/cpu_allocator_impl.cc:83] Allocation of 37632000 exceeds 10% of free system memory.\n"
     ]
    },
    {
     "name": "stdout",
     "output_type": "stream",
     "text": [
      "375/375 [==============================] - 5s 6ms/step - loss: 1.4997 - accuracy: 0.6230 - val_loss: 0.7645 - val_accuracy: 0.8332\n",
      "Epoch 2/50\n",
      "375/375 [==============================] - 2s 5ms/step - loss: 0.6013 - accuracy: 0.8485 - val_loss: 0.4558 - val_accuracy: 0.8802\n",
      "Epoch 3/50\n",
      "375/375 [==============================] - 2s 5ms/step - loss: 0.4377 - accuracy: 0.8805 - val_loss: 0.3738 - val_accuracy: 0.8975\n",
      "Epoch 4/50\n",
      "375/375 [==============================] - 2s 5ms/step - loss: 0.3766 - accuracy: 0.8946 - val_loss: 0.3349 - val_accuracy: 0.9072\n",
      "Epoch 5/50\n",
      "375/375 [==============================] - 2s 5ms/step - loss: 0.3422 - accuracy: 0.9025 - val_loss: 0.3111 - val_accuracy: 0.9128\n",
      "Epoch 6/50\n",
      "375/375 [==============================] - 2s 5ms/step - loss: 0.3183 - accuracy: 0.9088 - val_loss: 0.2915 - val_accuracy: 0.9187\n",
      "Epoch 7/50\n",
      "375/375 [==============================] - 2s 5ms/step - loss: 0.3000 - accuracy: 0.9143 - val_loss: 0.2774 - val_accuracy: 0.9234\n",
      "Epoch 8/50\n",
      "375/375 [==============================] - 2s 5ms/step - loss: 0.2845 - accuracy: 0.9184 - val_loss: 0.2669 - val_accuracy: 0.9254\n",
      "Epoch 9/50\n",
      "375/375 [==============================] - 2s 5ms/step - loss: 0.2718 - accuracy: 0.9222 - val_loss: 0.2548 - val_accuracy: 0.9282\n",
      "Epoch 10/50\n",
      "375/375 [==============================] - 2s 5ms/step - loss: 0.2607 - accuracy: 0.9258 - val_loss: 0.2456 - val_accuracy: 0.9300\n",
      "Epoch 11/50\n",
      "375/375 [==============================] - 2s 5ms/step - loss: 0.2504 - accuracy: 0.9280 - val_loss: 0.2390 - val_accuracy: 0.9327\n",
      "Epoch 12/50\n",
      "375/375 [==============================] - 2s 5ms/step - loss: 0.2410 - accuracy: 0.9317 - val_loss: 0.2313 - val_accuracy: 0.9342\n",
      "Epoch 13/50\n",
      "375/375 [==============================] - 2s 5ms/step - loss: 0.2326 - accuracy: 0.9342 - val_loss: 0.2238 - val_accuracy: 0.9367\n",
      "Epoch 14/50\n",
      "375/375 [==============================] - 2s 5ms/step - loss: 0.2253 - accuracy: 0.9358 - val_loss: 0.2182 - val_accuracy: 0.9384\n",
      "Epoch 15/50\n",
      "375/375 [==============================] - 2s 5ms/step - loss: 0.2180 - accuracy: 0.9383 - val_loss: 0.2130 - val_accuracy: 0.9401\n",
      "Epoch 16/50\n",
      "375/375 [==============================] - 2s 5ms/step - loss: 0.2114 - accuracy: 0.9411 - val_loss: 0.2057 - val_accuracy: 0.9419\n",
      "Epoch 17/50\n",
      "375/375 [==============================] - 2s 5ms/step - loss: 0.2052 - accuracy: 0.9422 - val_loss: 0.2015 - val_accuracy: 0.9423\n",
      "Epoch 18/50\n",
      "375/375 [==============================] - 2s 5ms/step - loss: 0.1992 - accuracy: 0.9441 - val_loss: 0.1962 - val_accuracy: 0.9447\n",
      "Epoch 19/50\n",
      "375/375 [==============================] - 2s 5ms/step - loss: 0.1933 - accuracy: 0.9452 - val_loss: 0.1917 - val_accuracy: 0.9449\n",
      "Epoch 20/50\n",
      "375/375 [==============================] - 2s 5ms/step - loss: 0.1880 - accuracy: 0.9470 - val_loss: 0.1877 - val_accuracy: 0.9458\n",
      "Epoch 21/50\n",
      "375/375 [==============================] - 2s 5ms/step - loss: 0.1830 - accuracy: 0.9477 - val_loss: 0.1834 - val_accuracy: 0.9477\n",
      "Epoch 22/50\n",
      "375/375 [==============================] - 2s 5ms/step - loss: 0.1779 - accuracy: 0.9498 - val_loss: 0.1797 - val_accuracy: 0.9482\n",
      "Epoch 23/50\n",
      "375/375 [==============================] - 2s 5ms/step - loss: 0.1732 - accuracy: 0.9512 - val_loss: 0.1771 - val_accuracy: 0.9491\n",
      "Epoch 24/50\n",
      "375/375 [==============================] - 2s 5ms/step - loss: 0.1690 - accuracy: 0.9521 - val_loss: 0.1726 - val_accuracy: 0.9503\n",
      "Epoch 25/50\n",
      "375/375 [==============================] - 2s 5ms/step - loss: 0.1643 - accuracy: 0.9534 - val_loss: 0.1695 - val_accuracy: 0.9514\n",
      "Epoch 26/50\n",
      "375/375 [==============================] - 2s 5ms/step - loss: 0.1604 - accuracy: 0.9544 - val_loss: 0.1666 - val_accuracy: 0.9528\n",
      "Epoch 27/50\n",
      "375/375 [==============================] - 2s 5ms/step - loss: 0.1566 - accuracy: 0.9556 - val_loss: 0.1627 - val_accuracy: 0.9531\n",
      "Epoch 28/50\n",
      "375/375 [==============================] - 2s 5ms/step - loss: 0.1526 - accuracy: 0.9571 - val_loss: 0.1607 - val_accuracy: 0.9548\n",
      "Epoch 29/50\n",
      "375/375 [==============================] - 2s 5ms/step - loss: 0.1490 - accuracy: 0.9578 - val_loss: 0.1572 - val_accuracy: 0.9559\n",
      "Epoch 30/50\n",
      "375/375 [==============================] - 2s 5ms/step - loss: 0.1456 - accuracy: 0.9591 - val_loss: 0.1541 - val_accuracy: 0.9569\n",
      "Epoch 31/50\n",
      "375/375 [==============================] - 2s 5ms/step - loss: 0.1423 - accuracy: 0.9596 - val_loss: 0.1514 - val_accuracy: 0.9566\n",
      "Epoch 32/50\n",
      "375/375 [==============================] - 2s 5ms/step - loss: 0.1391 - accuracy: 0.9604 - val_loss: 0.1492 - val_accuracy: 0.9576\n",
      "Epoch 33/50\n",
      "375/375 [==============================] - 2s 5ms/step - loss: 0.1359 - accuracy: 0.9614 - val_loss: 0.1477 - val_accuracy: 0.9582\n",
      "Epoch 34/50\n",
      "375/375 [==============================] - 2s 5ms/step - loss: 0.1329 - accuracy: 0.9629 - val_loss: 0.1451 - val_accuracy: 0.9593\n",
      "Epoch 35/50\n",
      "375/375 [==============================] - 2s 5ms/step - loss: 0.1301 - accuracy: 0.9635 - val_loss: 0.1425 - val_accuracy: 0.9592\n",
      "Epoch 36/50\n",
      "375/375 [==============================] - 2s 5ms/step - loss: 0.1274 - accuracy: 0.9645 - val_loss: 0.1414 - val_accuracy: 0.9603\n",
      "Epoch 37/50\n",
      "375/375 [==============================] - 2s 5ms/step - loss: 0.1247 - accuracy: 0.9647 - val_loss: 0.1397 - val_accuracy: 0.9601\n",
      "Epoch 38/50\n",
      "375/375 [==============================] - 2s 5ms/step - loss: 0.1222 - accuracy: 0.9656 - val_loss: 0.1370 - val_accuracy: 0.9610\n",
      "Epoch 39/50\n",
      "375/375 [==============================] - 2s 5ms/step - loss: 0.1198 - accuracy: 0.9663 - val_loss: 0.1368 - val_accuracy: 0.9612\n",
      "Epoch 40/50\n",
      "375/375 [==============================] - 2s 5ms/step - loss: 0.1176 - accuracy: 0.9667 - val_loss: 0.1333 - val_accuracy: 0.9621\n",
      "Epoch 41/50\n",
      "375/375 [==============================] - 2s 5ms/step - loss: 0.1153 - accuracy: 0.9677 - val_loss: 0.1327 - val_accuracy: 0.9614\n",
      "Epoch 42/50\n",
      "375/375 [==============================] - 2s 5ms/step - loss: 0.1129 - accuracy: 0.9685 - val_loss: 0.1312 - val_accuracy: 0.9623\n",
      "Epoch 43/50\n",
      "375/375 [==============================] - 2s 5ms/step - loss: 0.1108 - accuracy: 0.9689 - val_loss: 0.1292 - val_accuracy: 0.9635\n",
      "Epoch 44/50\n",
      "375/375 [==============================] - 2s 5ms/step - loss: 0.1089 - accuracy: 0.9696 - val_loss: 0.1274 - val_accuracy: 0.9635\n",
      "Epoch 45/50\n",
      "375/375 [==============================] - 2s 5ms/step - loss: 0.1067 - accuracy: 0.9703 - val_loss: 0.1266 - val_accuracy: 0.9635\n",
      "Epoch 46/50\n",
      "375/375 [==============================] - 2s 5ms/step - loss: 0.1048 - accuracy: 0.9707 - val_loss: 0.1261 - val_accuracy: 0.9632\n",
      "Epoch 47/50\n",
      "375/375 [==============================] - 2s 5ms/step - loss: 0.1030 - accuracy: 0.9713 - val_loss: 0.1242 - val_accuracy: 0.9643\n",
      "Epoch 48/50\n",
      "375/375 [==============================] - 2s 5ms/step - loss: 0.1012 - accuracy: 0.9718 - val_loss: 0.1229 - val_accuracy: 0.9637\n",
      "Epoch 49/50\n",
      "375/375 [==============================] - 2s 5ms/step - loss: 0.0993 - accuracy: 0.9722 - val_loss: 0.1217 - val_accuracy: 0.9642\n",
      "Epoch 50/50\n",
      "375/375 [==============================] - 2s 5ms/step - loss: 0.0977 - accuracy: 0.9729 - val_loss: 0.1213 - val_accuracy: 0.9638\n"
     ]
    },
    {
     "data": {
      "text/plain": [
       "<keras.callbacks.History at 0x7efb67736200>"
      ]
     },
     "execution_count": 10,
     "metadata": {},
     "output_type": "execute_result"
    }
   ],
   "source": [
    "# Training the model.\n",
    "model.fit(X_train, Y_train,\n",
    "         batch_size=BATCH_SIZE, \n",
    "         epochs=EPOCHS,\n",
    "         verbose=VERBOSE,\n",
    "         validation_split=VALIDATION_SPLIT)"
   ]
  },
  {
   "cell_type": "code",
   "execution_count": 11,
   "id": "23e89fd7",
   "metadata": {},
   "outputs": [
    {
     "name": "stdout",
     "output_type": "stream",
     "text": [
      " 19/313 [>.............................] - ETA: 0s - loss: 0.1105 - accuracy: 0.9704 "
     ]
    },
    {
     "name": "stderr",
     "output_type": "stream",
     "text": [
      "2023-07-13 21:12:14.493044: W tensorflow/tsl/framework/cpu_allocator_impl.cc:83] Allocation of 31360000 exceeds 10% of free system memory.\n"
     ]
    },
    {
     "name": "stdout",
     "output_type": "stream",
     "text": [
      "313/313 [==============================] - 1s 3ms/step - loss: 0.1173 - accuracy: 0.9648\n",
      "Test accuracy 0.9648000001907349\n"
     ]
    }
   ],
   "source": [
    "# Evaluate the model\n",
    "test_loss, test_accuracy = model.evaluate(X_test, Y_test)\n",
    "print(\"Test accuracy\", test_accuracy)"
   ]
  }
 ],
 "metadata": {
  "kernelspec": {
   "display_name": "Python 3 (ipykernel)",
   "language": "python",
   "name": "python3"
  },
  "language_info": {
   "codemirror_mode": {
    "name": "ipython",
    "version": 3
   },
   "file_extension": ".py",
   "mimetype": "text/x-python",
   "name": "python",
   "nbconvert_exporter": "python",
   "pygments_lexer": "ipython3",
   "version": "3.10.9"
  }
 },
 "nbformat": 4,
 "nbformat_minor": 5
}
