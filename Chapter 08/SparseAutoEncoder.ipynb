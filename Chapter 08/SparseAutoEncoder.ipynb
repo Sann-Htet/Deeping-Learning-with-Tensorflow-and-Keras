{
 "cells": [
  {
   "cell_type": "code",
   "execution_count": 1,
   "id": "37152695",
   "metadata": {},
   "outputs": [
    {
     "name": "stderr",
     "output_type": "stream",
     "text": [
      "2023-08-29 10:12:53.422743: I tensorflow/tsl/cuda/cudart_stub.cc:28] Could not find cuda drivers on your machine, GPU will not be used.\n",
      "2023-08-29 10:12:53.506317: I tensorflow/tsl/cuda/cudart_stub.cc:28] Could not find cuda drivers on your machine, GPU will not be used.\n",
      "2023-08-29 10:12:53.507376: I tensorflow/core/platform/cpu_feature_guard.cc:182] This TensorFlow binary is optimized to use available CPU instructions in performance-critical operations.\n",
      "To enable the following instructions: AVX2 FMA, in other operations, rebuild TensorFlow with the appropriate compiler flags.\n",
      "2023-08-29 10:12:55.304292: W tensorflow/compiler/tf2tensorrt/utils/py_utils.cc:38] TF-TRT Warning: Could not find TensorRT\n"
     ]
    }
   ],
   "source": [
    "import numpy as np\n",
    "import tensorflow as tf\n",
    "import tensorflow.keras as K\n",
    "import matplotlib.pyplot as plt\n",
    "from tensorflow.keras import regularizers"
   ]
  },
  {
   "cell_type": "code",
   "execution_count": 2,
   "id": "4bcd8005",
   "metadata": {},
   "outputs": [],
   "source": [
    "np.random.seed(11)\n",
    "tf.random.set_seed(11)\n",
    "batch_size = 256\n",
    "max_epochs = 50\n",
    "learning_rate = 1e-3\n",
    "momentum = 8e-1\n",
    "hidden_dim = 128\n",
    "original_dim = 784"
   ]
  },
  {
   "cell_type": "code",
   "execution_count": 3,
   "id": "6703fb21",
   "metadata": {},
   "outputs": [
    {
     "name": "stderr",
     "output_type": "stream",
     "text": [
      "2023-08-29 10:13:15.567613: W tensorflow/core/common_runtime/gpu/gpu_device.cc:1960] Cannot dlopen some GPU libraries. Please make sure the missing libraries mentioned above are installed properly if you would like to use GPU. Follow the guide at https://www.tensorflow.org/install/gpu for how to download and setup the required libraries for your platform.\n",
      "Skipping registering GPU devices...\n",
      "2023-08-29 10:13:15.570160: W tensorflow/tsl/framework/cpu_allocator_impl.cc:83] Allocation of 188160000 exceeds 10% of free system memory.\n"
     ]
    }
   ],
   "source": [
    "(x_train, _), (x_test, _) = K.datasets.mnist.load_data()\n",
    "\n",
    "x_train = x_train / 255.\n",
    "x_test = x_test / 255.\n",
    "\n",
    "x_train = x_train.astype(np.float32)\n",
    "x_test = x_test.astype(np.float32)\n",
    "\n",
    "x_train = np.reshape(x_train, (x_train.shape[0], 784))\n",
    "x_test = np.reshape(x_test, (x_test.shape[0], 784))\n",
    "\n",
    "training_dataset = tf.data.Dataset.from_tensor_slices(x_train).batch(batch_size)"
   ]
  },
  {
   "cell_type": "code",
   "execution_count": 4,
   "id": "013c2332",
   "metadata": {},
   "outputs": [],
   "source": [
    "class SparseEncoder(K.layers.Layer):\n",
    "    def __init__(self, hidden_dim):\n",
    "        super(SparseEncoder, self).__init__()\n",
    "        self.hidden_layer = K.layers.Dense(units=hidden_dim, \n",
    "                    activation=tf.nn.relu, activity_regularizer=regularizers.l1(10e-5))\n",
    "           \n",
    "    def call(self, input_features):\n",
    "        activation = self.hidden_layer(input_features)\n",
    "        return activation"
   ]
  },
  {
   "cell_type": "code",
   "execution_count": 5,
   "id": "933e2f71",
   "metadata": {},
   "outputs": [],
   "source": [
    "class SparseDecoder(K.layers.Layer):\n",
    "    def __init__(self, hidden_dim, original_dim):\n",
    "        super(SparseDecoder, self).__init__()\n",
    "        self.output_layer = K.layers.Dense(units=original_dim, activation=tf.nn.relu)\n",
    "  \n",
    "    def call(self, encoded):\n",
    "        activation = self.output_layer(encoded)\n",
    "        return activation "
   ]
  },
  {
   "cell_type": "code",
   "execution_count": 6,
   "id": "ff38035f",
   "metadata": {},
   "outputs": [],
   "source": [
    "class SparseAutoencoder(K.Model):\n",
    "    def __init__(self, hidden_dim, original_dim):\n",
    "        super(SparseAutoencoder, self).__init__()\n",
    "        self.loss = []\n",
    "        self.encoder = SparseEncoder(hidden_dim=hidden_dim)\n",
    "        self.decoder = SparseDecoder(hidden_dim=hidden_dim, original_dim=original_dim)\n",
    "\n",
    "    def call(self, input_features):\n",
    "        encoded = self.encoder(input_features)\n",
    "        reconstructed = self.decoder(encoded)\n",
    "        return reconstructed"
   ]
  },
  {
   "cell_type": "code",
   "execution_count": 7,
   "id": "f88a1f0f",
   "metadata": {},
   "outputs": [],
   "source": [
    "autoencoder = SparseAutoencoder(hidden_dim=hidden_dim, original_dim=original_dim)\n",
    "opt = tf.optimizers.SGD(learning_rate=learning_rate, momentum=momentum)\n",
    "\n",
    "def loss(preds, real):\n",
    "    return tf.reduce_mean(tf.square(tf.subtract(preds, real))) \n",
    "\n",
    "def train(loss, model, opt, original):\n",
    "    with tf.GradientTape() as tape:\n",
    "        preds = model(original)\n",
    "        reconstruction_error = loss(preds, original)\n",
    "    gradients = tape.gradient(reconstruction_error, model.trainable_variables)\n",
    "    gradient_variables = zip(gradients, model.trainable_variables)\n",
    "    opt.apply_gradients(gradient_variables)\n",
    "  \n",
    "    return reconstruction_error"
   ]
  },
  {
   "cell_type": "code",
   "execution_count": 8,
   "id": "9b535ea1",
   "metadata": {},
   "outputs": [],
   "source": [
    "def train_loop(model, opt, loss, dataset, epochs=20):\n",
    "    for epoch in range(epochs):\n",
    "        epoch_loss = 0\n",
    "        for step, batch_features in enumerate(dataset):\n",
    "            loss_values = train(loss, model, opt, batch_features)\n",
    "            epoch_loss += loss_values\n",
    "        model.loss.append(epoch_loss)\n",
    "        print('Epoch {}/{}. Loss: {}'.format(epoch + 1, epochs, epoch_loss.numpy()))"
   ]
  },
  {
   "cell_type": "code",
   "execution_count": 9,
   "id": "f3922503",
   "metadata": {},
   "outputs": [
    {
     "name": "stderr",
     "output_type": "stream",
     "text": [
      "2023-08-29 10:14:25.051785: W tensorflow/tsl/framework/cpu_allocator_impl.cc:83] Allocation of 188160000 exceeds 10% of free system memory.\n"
     ]
    },
    {
     "name": "stdout",
     "output_type": "stream",
     "text": [
      "Epoch 1/50. Loss: 4.607846736907959\n",
      "Epoch 2/50. Loss: 2.8147783279418945\n",
      "Epoch 3/50. Loss: 2.6601006984710693\n",
      "Epoch 4/50. Loss: 2.6329052448272705\n",
      "Epoch 5/50. Loss: 2.609302520751953\n",
      "Epoch 6/50. Loss: 2.587867021560669\n",
      "Epoch 7/50. Loss: 2.535158395767212\n",
      "Epoch 8/50. Loss: 2.543212890625\n",
      "Epoch 9/50. Loss: 2.5352604389190674\n",
      "Epoch 10/50. Loss: 2.541642427444458\n",
      "Epoch 11/50. Loss: 2.536166191101074\n",
      "Epoch 12/50. Loss: 2.5027129650115967\n",
      "Epoch 13/50. Loss: 2.5106613636016846\n",
      "Epoch 14/50. Loss: 2.5488123893737793\n",
      "Epoch 15/50. Loss: 2.501244068145752\n",
      "Epoch 16/50. Loss: 2.494933605194092\n",
      "Epoch 17/50. Loss: 2.525632381439209\n",
      "Epoch 18/50. Loss: 2.5114219188690186\n",
      "Epoch 19/50. Loss: 2.4858410358428955\n",
      "Epoch 20/50. Loss: 2.5007171630859375\n",
      "Epoch 21/50. Loss: 2.5439369678497314\n",
      "Epoch 22/50. Loss: 2.51690936088562\n",
      "Epoch 23/50. Loss: 2.4936606884002686\n",
      "Epoch 24/50. Loss: 2.499044895172119\n",
      "Epoch 25/50. Loss: 2.5259463787078857\n",
      "Epoch 26/50. Loss: 2.4837088584899902\n",
      "Epoch 27/50. Loss: 2.5031278133392334\n",
      "Epoch 28/50. Loss: 2.4731674194335938\n",
      "Epoch 29/50. Loss: 2.523777484893799\n",
      "Epoch 30/50. Loss: 2.496547222137451\n",
      "Epoch 31/50. Loss: 2.501044511795044\n",
      "Epoch 32/50. Loss: 2.504666328430176\n",
      "Epoch 33/50. Loss: 2.5086169242858887\n",
      "Epoch 34/50. Loss: 2.533564329147339\n",
      "Epoch 35/50. Loss: 2.48633074760437\n",
      "Epoch 36/50. Loss: 2.4885365962982178\n",
      "Epoch 37/50. Loss: 2.493694543838501\n",
      "Epoch 38/50. Loss: 2.5625555515289307\n",
      "Epoch 39/50. Loss: 2.4896748065948486\n",
      "Epoch 40/50. Loss: 2.507858991622925\n",
      "Epoch 41/50. Loss: 2.535407781600952\n",
      "Epoch 42/50. Loss: 2.4623782634735107\n",
      "Epoch 43/50. Loss: 2.517056941986084\n",
      "Epoch 44/50. Loss: 2.482591390609741\n",
      "Epoch 45/50. Loss: 2.523181676864624\n",
      "Epoch 46/50. Loss: 2.517152786254883\n",
      "Epoch 47/50. Loss: 2.4775807857513428\n",
      "Epoch 48/50. Loss: 2.506871461868286\n",
      "Epoch 49/50. Loss: 2.4741573333740234\n",
      "Epoch 50/50. Loss: 2.492034673690796\n"
     ]
    }
   ],
   "source": [
    "model = SparseAutoencoder(hidden_dim=hidden_dim, original_dim=original_dim)\n",
    "opt = tf.keras.optimizers.Adam(learning_rate=1e-2)\n",
    "\n",
    "train_loop(model, opt, loss, training_dataset, epochs=max_epochs)"
   ]
  },
  {
   "cell_type": "code",
   "execution_count": 10,
   "id": "c6528340",
   "metadata": {},
   "outputs": [
    {
     "data": {
      "image/png": "[encoded data removed]",
      "text/plain": [
       "<Figure size 640x480 with 1 Axes>"
      ]
     },
     "metadata": {},
     "output_type": "display_data"
    }
   ],
   "source": [
    "plt.plot(range(max_epochs), model.loss)\n",
    "plt.xlabel('Epochs')\n",
    "plt.ylabel('Loss')\n",
    "plt.show()"
   ]
  },
  {
   "cell_type": "code",
   "execution_count": 11,
   "id": "817912ab",
   "metadata": {},
   "outputs": [
    {
     "data": {
      "image/png": "[encoded data removed]",
      "text/plain": [
       "<Figure size 2000x400 with 20 Axes>"
      ]
     },
     "metadata": {},
     "output_type": "display_data"
    }
   ],
   "source": [
    "number = 10  # how many digits we will display\n",
    "plt.figure(figsize=(20, 4))\n",
    "for index in range(number):\n",
    "    # display original\n",
    "    ax = plt.subplot(2, number, index + 1)\n",
    "    plt.imshow(x_test[index].reshape(28, 28), cmap='gray')\n",
    "    ax.get_xaxis().set_visible(False)\n",
    "    ax.get_yaxis().set_visible(False)\n",
    "\n",
    "    # display reconstruction\n",
    "    ax = plt.subplot(2, number, index + 1 + number)\n",
    "    plt.imshow(model(x_test)[index].numpy().reshape(28, 28), cmap='gray')\n",
    "    ax.get_xaxis().set_visible(False)\n",
    "    ax.get_yaxis().set_visible(False)\n",
    "plt.show()"
   ]
  },
  {
   "cell_type": "markdown",
   "id": "6c51cfc5",
   "metadata": {},
   "source": [
    "---"
   ]
  }
 ],
 "metadata": {
  "kernelspec": {
   "display_name": "Python 3 (ipykernel)",
   "language": "python",
   "name": "python3"
  },
  "language_info": {
   "codemirror_mode": {
    "name": "ipython",
    "version": 3
   },
   "file_extension": ".py",
   "mimetype": "text/x-python",
   "name": "python",
   "nbconvert_exporter": "python",
   "pygments_lexer": "ipython3",
   "version": "3.11.4"
  }
 },
 "nbformat": 4,
 "nbformat_minor": 5
}
