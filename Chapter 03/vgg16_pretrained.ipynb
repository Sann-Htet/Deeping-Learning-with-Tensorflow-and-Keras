{
 "cells": [
  {
   "cell_type": "code",
   "execution_count": 3,
   "id": "5cfa1378",
   "metadata": {},
   "outputs": [],
   "source": [
    "import tensorflow as tf\n",
    "from tensorflow.keras.applications.vgg16 import VGG16\n",
    "import matplotlib.pyplot as plt\n",
    "import numpy as np\n",
    "import cv2"
   ]
  },
  {
   "cell_type": "code",
   "execution_count": 2,
   "id": "1f738aa5",
   "metadata": {},
   "outputs": [
    {
     "name": "stderr",
     "output_type": "stream",
     "text": [
      "2023-08-13 13:13:01.215324: W tensorflow/core/common_runtime/gpu/gpu_device.cc:1960] Cannot dlopen some GPU libraries. Please make sure the missing libraries mentioned above are installed properly if you would like to use GPU. Follow the guide at https://www.tensorflow.org/install/gpu for how to download and setup the required libraries for your platform.\n",
      "Skipping registering GPU devices...\n",
      "2023-08-13 13:13:01.717123: W tensorflow/tsl/framework/cpu_allocator_impl.cc:83] Allocation of 411041792 exceeds 10% of free system memory.\n",
      "2023-08-13 13:13:01.967480: W tensorflow/tsl/framework/cpu_allocator_impl.cc:83] Allocation of 411041792 exceeds 10% of free system memory.\n",
      "2023-08-13 13:13:02.024499: W tensorflow/tsl/framework/cpu_allocator_impl.cc:83] Allocation of 411041792 exceeds 10% of free system memory.\n"
     ]
    },
    {
     "name": "stdout",
     "output_type": "stream",
     "text": [
      "Downloading data from https://storage.googleapis.com/tensorflow/keras-applications/vgg16/vgg16_weights_tf_dim_ordering_tf_kernels.h5\n",
      "553467096/553467096 [==============================] - 595s 1us/step\n"
     ]
    },
    {
     "name": "stderr",
     "output_type": "stream",
     "text": [
      "2023-08-13 13:23:01.013044: W tensorflow/tsl/framework/cpu_allocator_impl.cc:83] Allocation of 411041792 exceeds 10% of free system memory.\n"
     ]
    }
   ],
   "source": [
    "# pre built model with pre-trained weights on imagenet\n",
    "model = VGG16(weights='imagenet', include_top=True)\n",
    "model.compile(optimizer='sgd', loss='categorical_crossentropy')"
   ]
  },
  {
   "cell_type": "code",
   "execution_count": 4,
   "id": "a0f2a354",
   "metadata": {},
   "outputs": [],
   "source": [
    "# resize into VGG16 trained images' format\n",
    "im = cv2.resize(cv2.imread('cat-standing.jpg'), (224, 224))\n",
    "im = np.expand_dims(im, axis=0)"
   ]
  },
  {
   "cell_type": "code",
   "execution_count": 5,
   "id": "8a1b8240",
   "metadata": {},
   "outputs": [
    {
     "name": "stdout",
     "output_type": "stream",
     "text": [
      "1/1 [==============================] - 1s 592ms/step\n",
      "281\n"
     ]
    }
   ],
   "source": [
    "# predict\n",
    "out = model.predict(im)\n",
    "index = np.argmax(out)\n",
    "print(index)"
   ]
  },
  {
   "cell_type": "code",
   "execution_count": 6,
   "id": "8e258e08",
   "metadata": {},
   "outputs": [
    {
     "data": {
      "image/png": "[encoded data removed]",
      "text/plain": [
       "<Figure size 640x480 with 1 Axes>"
      ]
     },
     "metadata": {},
     "output_type": "display_data"
    }
   ],
   "source": [
    "plt.plot(out.ravel())\n",
    "plt.show()"
   ]
  },
  {
   "cell_type": "markdown",
   "id": "24b237d2",
   "metadata": {},
   "source": [
    "# Recycling pre-built deep learning models for extracting features"
   ]
  },
  {
   "cell_type": "code",
   "execution_count": 8,
   "id": "f9dd3c2b",
   "metadata": {},
   "outputs": [],
   "source": [
    "import tensorflow as tf\n",
    "from tensorflow.keras.applications.vgg16 import VGG16\n",
    "from tensorflow.keras import models\n",
    "from tensorflow.keras.preprocessing import image\n",
    "from tensorflow.keras.applications.vgg16 import preprocess_input\n",
    "import numpy as np\n",
    "import cv2"
   ]
  },
  {
   "cell_type": "code",
   "execution_count": 9,
   "id": "d7fd1b62",
   "metadata": {},
   "outputs": [
    {
     "name": "stdout",
     "output_type": "stream",
     "text": [
      "<keras.src.engine.functional.Functional object at 0x7ff9e306d950>\n"
     ]
    }
   ],
   "source": [
    "# prebuild model with pre-trained weights on imagenet\n",
    "base_model = model\n",
    "print(base_model)"
   ]
  },
  {
   "cell_type": "code",
   "execution_count": 10,
   "id": "dc6b0666",
   "metadata": {},
   "outputs": [
    {
     "name": "stdout",
     "output_type": "stream",
     "text": [
      "0 input_1 [(None, 224, 224, 3)]\n",
      "1 block1_conv1 (None, 224, 224, 64)\n",
      "2 block1_conv2 (None, 224, 224, 64)\n",
      "3 block1_pool (None, 112, 112, 64)\n",
      "4 block2_conv1 (None, 112, 112, 128)\n",
      "5 block2_conv2 (None, 112, 112, 128)\n",
      "6 block2_pool (None, 56, 56, 128)\n",
      "7 block3_conv1 (None, 56, 56, 256)\n",
      "8 block3_conv2 (None, 56, 56, 256)\n",
      "9 block3_conv3 (None, 56, 56, 256)\n",
      "10 block3_pool (None, 28, 28, 256)\n",
      "11 block4_conv1 (None, 28, 28, 512)\n",
      "12 block4_conv2 (None, 28, 28, 512)\n",
      "13 block4_conv3 (None, 28, 28, 512)\n",
      "14 block4_pool (None, 14, 14, 512)\n",
      "15 block5_conv1 (None, 14, 14, 512)\n",
      "16 block5_conv2 (None, 14, 14, 512)\n",
      "17 block5_conv3 (None, 14, 14, 512)\n",
      "18 block5_pool (None, 7, 7, 512)\n",
      "19 flatten (None, 25088)\n",
      "20 fc1 (None, 4096)\n",
      "21 fc2 (None, 4096)\n",
      "22 predictions (None, 1000)\n"
     ]
    }
   ],
   "source": [
    "for i, layer in enumerate(base_model.layers):\n",
    "    print(i, layer.name, layer.output_shape)"
   ]
  },
  {
   "cell_type": "code",
   "execution_count": 12,
   "id": "4febb7b4",
   "metadata": {},
   "outputs": [
    {
     "data": {
      "text/plain": [
       "<KerasTensor: shape=(None, 14, 14, 512) dtype=float32 (created by layer 'block4_pool')>"
      ]
     },
     "execution_count": 12,
     "metadata": {},
     "output_type": "execute_result"
    }
   ],
   "source": [
    "base_model.get_layer('block4_pool').output"
   ]
  },
  {
   "cell_type": "code",
   "execution_count": 13,
   "id": "e92fc0bd",
   "metadata": {},
   "outputs": [],
   "source": [
    "# extract features from block4_pool block\n",
    "model = models.Model(inputs=base_model.input,\n",
    "                     outputs=base_model.get_layer('block4_pool').output)"
   ]
  },
  {
   "cell_type": "code",
   "execution_count": 14,
   "id": "5033eeed",
   "metadata": {},
   "outputs": [],
   "source": [
    "img_path = 'cat-standing.jpg'\n",
    "img = image.load_img(img_path, target_size=(224, 224))\n",
    "x = image.img_to_array(img)\n",
    "x = np.expand_dims(x, axis=0)\n",
    "x = preprocess_input(x)"
   ]
  },
  {
   "cell_type": "code",
   "execution_count": 17,
   "id": "f18c58da",
   "metadata": {},
   "outputs": [
    {
     "name": "stdout",
     "output_type": "stream",
     "text": [
      "1/1 [==============================] - 0s 212ms/step\n",
      "[[[[   0.           0.         227.73962   ...   22.83277\n",
      "       0.           0.       ]\n",
      "   [   0.           0.         518.2039    ...  104.24848\n",
      "       0.           0.       ]\n",
      "   [  24.324852     0.         669.59296   ...   33.276257\n",
      "       0.           0.       ]\n",
      "   ...\n",
      "   [   0.           0.          98.140625  ...    0.\n",
      "     447.02902      0.       ]\n",
      "   [   0.           0.         545.6184    ...    0.\n",
      "     716.5399       0.       ]\n",
      "   [  37.317387     0.         180.43294   ...   38.459335\n",
      "       0.           0.       ]]\n",
      "\n",
      "  [[   0.           0.           0.        ...    0.\n",
      "       0.           0.       ]\n",
      "   [   0.           0.          71.31129   ...   96.03883\n",
      "       0.           0.       ]\n",
      "   [   0.           0.         271.78662   ...    0.\n",
      "       0.           0.       ]\n",
      "   ...\n",
      "   [   0.           0.           0.        ...    0.\n",
      "     509.8687       0.       ]\n",
      "   [   0.           0.         346.62167   ...    0.\n",
      "    1022.94446      0.       ]\n",
      "   [   0.           0.         111.16466   ...    0.\n",
      "       0.           0.       ]]\n",
      "\n",
      "  [[   0.           2.580882     0.        ...    0.\n",
      "       0.           0.       ]\n",
      "   [   0.           0.           0.        ...    0.\n",
      "       0.           0.       ]\n",
      "   [   0.           0.          15.108306  ...    0.\n",
      "       0.           0.       ]\n",
      "   ...\n",
      "   [   0.           0.           0.        ...    0.\n",
      "     247.76974      0.       ]\n",
      "   [   0.           0.         237.58113   ...    0.\n",
      "     878.9542       0.       ]\n",
      "   [   0.           0.          77.65571   ...    0.\n",
      "     351.98273      0.       ]]\n",
      "\n",
      "  ...\n",
      "\n",
      "  [[   0.           0.          68.55527   ...    0.\n",
      "       0.           0.       ]\n",
      "   [   0.           0.           0.        ...    0.\n",
      "       0.           0.       ]\n",
      "   [   0.           0.           0.        ...    0.\n",
      "       0.           0.       ]\n",
      "   ...\n",
      "   [   0.          69.2708     107.27003   ...    0.\n",
      "       0.           0.       ]\n",
      "   [   0.          61.8697       0.        ...    0.\n",
      "       0.           0.       ]\n",
      "   [   0.           0.          11.685067  ...    0.\n",
      "      19.606365     0.       ]]\n",
      "\n",
      "  [[   0.           0.         120.39553   ...    0.\n",
      "       0.           0.       ]\n",
      "   [   0.           0.           0.        ...    0.\n",
      "       0.           0.       ]\n",
      "   [   0.           0.          82.03838   ...    0.\n",
      "       0.           0.       ]\n",
      "   ...\n",
      "   [   0.          76.94009      0.        ...    0.\n",
      "       0.           0.       ]\n",
      "   [   0.           0.           4.7581487 ...    0.\n",
      "       0.           0.       ]\n",
      "   [   0.           0.          34.92998   ...    0.\n",
      "      58.841976     0.       ]]\n",
      "\n",
      "  [[   0.           0.          77.360664  ...    0.\n",
      "       0.           0.       ]\n",
      "   [   0.           0.           0.        ...    0.\n",
      "       0.          38.988712 ]\n",
      "   [   0.           0.         190.07149   ...    0.\n",
      "       0.          40.498005 ]\n",
      "   ...\n",
      "   [   0.           0.           0.        ...    0.\n",
      "       0.           0.       ]\n",
      "   [   0.           0.         187.39911   ...    0.\n",
      "       0.           0.       ]\n",
      "   [  20.834894     0.           0.        ...    0.\n",
      "       0.           0.       ]]]]\n"
     ]
    }
   ],
   "source": [
    "# get the features from this block\n",
    "features = model.predict(x)\n",
    "print(features)"
   ]
  },
  {
   "cell_type": "code",
   "execution_count": 18,
   "id": "f23b9f77",
   "metadata": {},
   "outputs": [
    {
     "data": {
      "text/plain": [
       "(1, 14, 14, 512)"
      ]
     },
     "execution_count": 18,
     "metadata": {},
     "output_type": "execute_result"
    }
   ],
   "source": [
    "features.shape"
   ]
  },
  {
   "cell_type": "code",
   "execution_count": 26,
   "id": "f1cbb3f8",
   "metadata": {},
   "outputs": [
    {
     "data": {
      "text/plain": [
       "<matplotlib.image.AxesImage at 0x7ff96685a710>"
      ]
     },
     "execution_count": 26,
     "metadata": {},
     "output_type": "execute_result"
    },
    {
     "data": {
      "image/png": "[encoded data removed]",
      "text/plain": [
       "<Figure size 640x480 with 1 Axes>"
      ]
     },
     "metadata": {},
     "output_type": "display_data"
    }
   ],
   "source": [
    "plt.imshow(features[0, :, :, 511])"
   ]
  }
 ],
 "metadata": {
  "kernelspec": {
   "display_name": "Python 3 (ipykernel)",
   "language": "python",
   "name": "python3"
  },
  "language_info": {
   "codemirror_mode": {
    "name": "ipython",
    "version": 3
   },
   "file_extension": ".py",
   "mimetype": "text/x-python",
   "name": "python",
   "nbconvert_exporter": "python",
   "pygments_lexer": "ipython3",
   "version": "3.11.4"
  }
 },
 "nbformat": 4,
 "nbformat_minor": 5
}
