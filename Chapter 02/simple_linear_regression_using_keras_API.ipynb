{
  "cells": [
    {
      "cell_type": "markdown",
      "id": "07b75cac",
      "metadata": {
        "id": "07b75cac"
      },
      "source": [
        "# simple_linear_regression_using_keras_API"
      ]
    },
    {
      "cell_type": "code",
      "execution_count": 1,
      "id": "f22ff887",
      "metadata": {
        "id": "f22ff887"
      },
      "outputs": [],
      "source": [
        "# Import necessary modules\n",
        "import tensorflow as tf\n",
        "import numpy as np\n",
        "import matplotlib.pyplot as plt\n",
        "import pandas as pd"
      ]
    },
    {
      "cell_type": "code",
      "execution_count": 2,
      "id": "474c3b0d",
      "metadata": {
        "id": "474c3b0d"
      },
      "outputs": [],
      "source": [
        "# Generate a random data\n",
        "np.random.seed(0)\n",
        "area = 2.5 * np.random.randn(100) + 25\n",
        "price = 25 * area + 5 + np.random.randint(20,50, size = len(area))\n",
        "data = np.array([area, price])\n",
        "data = pd.DataFrame(data = data.T, columns=['area','price'])"
      ]
    },
    {
      "cell_type": "code",
      "execution_count": 3,
      "id": "dda5d4ad",
      "metadata": {
        "colab": {
          "base_uri": "https://localhost:8080/",
          "height": 430
        },
        "id": "dda5d4ad",
        "outputId": "ea81e5cb-16c1-4b97-9a42-e27f18850f8c"
      },
      "outputs": [
        {
          "output_type": "display_data",
          "data": {
            "text/plain": [
              "<Figure size 640x480 with 1 Axes>"
            ],
            "image/png": "[encoded data removed]"
          },
          "metadata": {}
        }
      ],
      "source": [
        "plt.scatter(data['area'], data['price'])\n",
        "plt.show()"
      ]
    },
    {
      "cell_type": "code",
      "execution_count": 4,
      "id": "b9a8ab97",
      "metadata": {
        "id": "b9a8ab97"
      },
      "outputs": [],
      "source": [
        "# Normalize the data\n",
        "data = (data - data.min()) / (data.max() - data.min())"
      ]
    },
    {
      "cell_type": "markdown",
      "id": "ca1ea621",
      "metadata": {
        "id": "ca1ea621"
      },
      "source": [
        "Let us now build the model; since it is a simple linear regressor, we use a Dense layer with\n",
        "only one unit:"
      ]
    },
    {
      "cell_type": "code",
      "execution_count": 5,
      "id": "332b8524",
      "metadata": {
        "id": "332b8524"
      },
      "outputs": [],
      "source": [
        "model = tf.keras.models.Sequential([\n",
        "                      tf.keras.layers.Dense(1, input_shape = [1,], activation=None)\n",
        "])"
      ]
    },
    {
      "cell_type": "code",
      "execution_count": 6,
      "id": "66fdba63",
      "metadata": {
        "colab": {
          "base_uri": "https://localhost:8080/"
        },
        "id": "66fdba63",
        "outputId": "bfaf0a3f-cf70-44c9-e5e7-d2c8bf382e96"
      },
      "outputs": [
        {
          "output_type": "stream",
          "name": "stdout",
          "text": [
            "Model: \"sequential\"\n",
            "_________________________________________________________________\n",
            " Layer (type)                Output Shape              Param #   \n",
            "=================================================================\n",
            " dense (Dense)               (None, 1)                 2         \n",
            "                                                                 \n",
            "=================================================================\n",
            "Total params: 2\n",
            "Trainable params: 2\n",
            "Non-trainable params: 0\n",
            "_________________________________________________________________\n"
          ]
        }
      ],
      "source": [
        "model.summary()"
      ]
    },
    {
      "cell_type": "code",
      "execution_count": 7,
      "id": "01df2702",
      "metadata": {
        "id": "01df2702"
      },
      "outputs": [],
      "source": [
        "model.compile(optimizer='sgd',\n",
        "              loss='mean_squared_error')"
      ]
    },
    {
      "cell_type": "code",
      "execution_count": 8,
      "id": "68241351",
      "metadata": {
        "colab": {
          "base_uri": "https://localhost:8080/"
        },
        "id": "68241351",
        "outputId": "d986cdae-8796-425d-a7cd-706befee952b"
      },
      "outputs": [
        {
          "output_type": "stream",
          "name": "stdout",
          "text": [
            "Epoch 1/100\n",
            "3/3 [==============================] - 9s 219ms/step - loss: 0.0064 - val_loss: 0.0095\n",
            "Epoch 2/100\n",
            "3/3 [==============================] - 0s 35ms/step - loss: 0.0056 - val_loss: 0.0085\n",
            "Epoch 3/100\n",
            "3/3 [==============================] - 0s 39ms/step - loss: 0.0049 - val_loss: 0.0076\n",
            "Epoch 4/100\n",
            "3/3 [==============================] - 0s 25ms/step - loss: 0.0043 - val_loss: 0.0069\n",
            "Epoch 5/100\n",
            "3/3 [==============================] - 0s 27ms/step - loss: 0.0038 - val_loss: 0.0062\n",
            "Epoch 6/100\n",
            "3/3 [==============================] - 0s 29ms/step - loss: 0.0034 - val_loss: 0.0056\n",
            "Epoch 7/100\n",
            "3/3 [==============================] - 0s 44ms/step - loss: 0.0030 - val_loss: 0.0052\n",
            "Epoch 8/100\n",
            "3/3 [==============================] - 0s 34ms/step - loss: 0.0027 - val_loss: 0.0047\n",
            "Epoch 9/100\n",
            "3/3 [==============================] - 0s 35ms/step - loss: 0.0025 - val_loss: 0.0043\n",
            "Epoch 10/100\n",
            "3/3 [==============================] - 0s 41ms/step - loss: 0.0022 - val_loss: 0.0040\n",
            "Epoch 11/100\n",
            "3/3 [==============================] - 0s 44ms/step - loss: 0.0020 - val_loss: 0.0037\n",
            "Epoch 12/100\n",
            "3/3 [==============================] - 0s 32ms/step - loss: 0.0019 - val_loss: 0.0034\n",
            "Epoch 13/100\n",
            "3/3 [==============================] - 0s 33ms/step - loss: 0.0017 - val_loss: 0.0032\n",
            "Epoch 14/100\n",
            "3/3 [==============================] - 0s 26ms/step - loss: 0.0016 - val_loss: 0.0030\n",
            "Epoch 15/100\n",
            "3/3 [==============================] - 0s 30ms/step - loss: 0.0015 - val_loss: 0.0028\n",
            "Epoch 16/100\n",
            "3/3 [==============================] - 0s 27ms/step - loss: 0.0014 - val_loss: 0.0027\n",
            "Epoch 17/100\n",
            "3/3 [==============================] - 0s 24ms/step - loss: 0.0013 - val_loss: 0.0025\n",
            "Epoch 18/100\n",
            "3/3 [==============================] - 0s 49ms/step - loss: 0.0013 - val_loss: 0.0024\n",
            "Epoch 19/100\n",
            "3/3 [==============================] - 0s 26ms/step - loss: 0.0012 - val_loss: 0.0023\n",
            "Epoch 20/100\n",
            "3/3 [==============================] - 0s 31ms/step - loss: 0.0012 - val_loss: 0.0022\n",
            "Epoch 21/100\n",
            "3/3 [==============================] - 0s 38ms/step - loss: 0.0011 - val_loss: 0.0021\n",
            "Epoch 22/100\n",
            "3/3 [==============================] - 0s 33ms/step - loss: 0.0011 - val_loss: 0.0020\n",
            "Epoch 23/100\n",
            "3/3 [==============================] - 0s 42ms/step - loss: 0.0011 - val_loss: 0.0019\n",
            "Epoch 24/100\n",
            "3/3 [==============================] - 0s 23ms/step - loss: 0.0010 - val_loss: 0.0019\n",
            "Epoch 25/100\n",
            "3/3 [==============================] - 0s 38ms/step - loss: 0.0010 - val_loss: 0.0018\n",
            "Epoch 26/100\n",
            "3/3 [==============================] - 0s 33ms/step - loss: 9.9115e-04 - val_loss: 0.0018\n",
            "Epoch 27/100\n",
            "3/3 [==============================] - 0s 26ms/step - loss: 9.7090e-04 - val_loss: 0.0017\n",
            "Epoch 28/100\n",
            "3/3 [==============================] - 0s 30ms/step - loss: 9.5762e-04 - val_loss: 0.0017\n",
            "Epoch 29/100\n",
            "3/3 [==============================] - 0s 41ms/step - loss: 9.4605e-04 - val_loss: 0.0016\n",
            "Epoch 30/100\n",
            "3/3 [==============================] - 0s 28ms/step - loss: 9.3544e-04 - val_loss: 0.0016\n",
            "Epoch 31/100\n",
            "3/3 [==============================] - 0s 25ms/step - loss: 9.2696e-04 - val_loss: 0.0016\n",
            "Epoch 32/100\n",
            "3/3 [==============================] - 0s 24ms/step - loss: 9.1987e-04 - val_loss: 0.0015\n",
            "Epoch 33/100\n",
            "3/3 [==============================] - 0s 25ms/step - loss: 9.1181e-04 - val_loss: 0.0015\n",
            "Epoch 34/100\n",
            "3/3 [==============================] - 0s 29ms/step - loss: 9.0537e-04 - val_loss: 0.0015\n",
            "Epoch 35/100\n",
            "3/3 [==============================] - 0s 59ms/step - loss: 8.9971e-04 - val_loss: 0.0015\n",
            "Epoch 36/100\n",
            "3/3 [==============================] - 0s 34ms/step - loss: 8.9578e-04 - val_loss: 0.0014\n",
            "Epoch 37/100\n",
            "3/3 [==============================] - 0s 29ms/step - loss: 8.9231e-04 - val_loss: 0.0014\n",
            "Epoch 38/100\n",
            "3/3 [==============================] - 0s 25ms/step - loss: 8.8827e-04 - val_loss: 0.0014\n",
            "Epoch 39/100\n",
            "3/3 [==============================] - 0s 26ms/step - loss: 8.8583e-04 - val_loss: 0.0014\n",
            "Epoch 40/100\n",
            "3/3 [==============================] - 0s 33ms/step - loss: 8.8387e-04 - val_loss: 0.0014\n",
            "Epoch 41/100\n",
            "3/3 [==============================] - 0s 26ms/step - loss: 8.8181e-04 - val_loss: 0.0014\n",
            "Epoch 42/100\n",
            "3/3 [==============================] - 0s 25ms/step - loss: 8.8040e-04 - val_loss: 0.0014\n",
            "Epoch 43/100\n",
            "3/3 [==============================] - 0s 37ms/step - loss: 8.7899e-04 - val_loss: 0.0013\n",
            "Epoch 44/100\n",
            "3/3 [==============================] - 0s 33ms/step - loss: 8.7797e-04 - val_loss: 0.0013\n",
            "Epoch 45/100\n",
            "3/3 [==============================] - 0s 27ms/step - loss: 8.7733e-04 - val_loss: 0.0013\n",
            "Epoch 46/100\n",
            "3/3 [==============================] - 0s 38ms/step - loss: 8.7645e-04 - val_loss: 0.0013\n",
            "Epoch 47/100\n",
            "3/3 [==============================] - 0s 45ms/step - loss: 8.7554e-04 - val_loss: 0.0013\n",
            "Epoch 48/100\n",
            "3/3 [==============================] - 0s 37ms/step - loss: 8.7522e-04 - val_loss: 0.0013\n",
            "Epoch 49/100\n",
            "3/3 [==============================] - 0s 24ms/step - loss: 8.7474e-04 - val_loss: 0.0013\n",
            "Epoch 50/100\n",
            "3/3 [==============================] - 0s 31ms/step - loss: 8.7454e-04 - val_loss: 0.0013\n",
            "Epoch 51/100\n",
            "3/3 [==============================] - 0s 55ms/step - loss: 8.7426e-04 - val_loss: 0.0013\n",
            "Epoch 52/100\n",
            "3/3 [==============================] - 0s 33ms/step - loss: 8.7411e-04 - val_loss: 0.0013\n",
            "Epoch 53/100\n",
            "3/3 [==============================] - 0s 88ms/step - loss: 8.7391e-04 - val_loss: 0.0013\n",
            "Epoch 54/100\n",
            "3/3 [==============================] - 0s 61ms/step - loss: 8.7274e-04 - val_loss: 0.0013\n",
            "Epoch 55/100\n",
            "3/3 [==============================] - 0s 70ms/step - loss: 8.7326e-04 - val_loss: 0.0013\n",
            "Epoch 56/100\n",
            "3/3 [==============================] - 0s 44ms/step - loss: 8.7148e-04 - val_loss: 0.0013\n",
            "Epoch 57/100\n",
            "3/3 [==============================] - 0s 71ms/step - loss: 8.7126e-04 - val_loss: 0.0013\n",
            "Epoch 58/100\n",
            "3/3 [==============================] - 0s 27ms/step - loss: 8.7156e-04 - val_loss: 0.0013\n",
            "Epoch 59/100\n",
            "3/3 [==============================] - 0s 43ms/step - loss: 8.7194e-04 - val_loss: 0.0013\n",
            "Epoch 60/100\n",
            "3/3 [==============================] - 0s 38ms/step - loss: 8.7194e-04 - val_loss: 0.0013\n",
            "Epoch 61/100\n",
            "3/3 [==============================] - 0s 52ms/step - loss: 8.7256e-04 - val_loss: 0.0013\n",
            "Epoch 62/100\n",
            "3/3 [==============================] - 0s 36ms/step - loss: 8.7085e-04 - val_loss: 0.0012\n",
            "Epoch 63/100\n",
            "3/3 [==============================] - 0s 48ms/step - loss: 8.7075e-04 - val_loss: 0.0013\n",
            "Epoch 64/100\n",
            "3/3 [==============================] - 0s 60ms/step - loss: 8.7081e-04 - val_loss: 0.0012\n",
            "Epoch 65/100\n",
            "3/3 [==============================] - 0s 24ms/step - loss: 8.7073e-04 - val_loss: 0.0012\n",
            "Epoch 66/100\n",
            "3/3 [==============================] - 0s 70ms/step - loss: 8.7034e-04 - val_loss: 0.0012\n",
            "Epoch 67/100\n",
            "3/3 [==============================] - 0s 24ms/step - loss: 8.7116e-04 - val_loss: 0.0012\n",
            "Epoch 68/100\n",
            "3/3 [==============================] - 0s 24ms/step - loss: 8.7064e-04 - val_loss: 0.0012\n",
            "Epoch 69/100\n",
            "3/3 [==============================] - 0s 37ms/step - loss: 8.7002e-04 - val_loss: 0.0012\n",
            "Epoch 70/100\n",
            "3/3 [==============================] - 0s 27ms/step - loss: 8.7044e-04 - val_loss: 0.0012\n",
            "Epoch 71/100\n",
            "3/3 [==============================] - 0s 52ms/step - loss: 8.6991e-04 - val_loss: 0.0012\n",
            "Epoch 72/100\n",
            "3/3 [==============================] - 0s 24ms/step - loss: 8.6987e-04 - val_loss: 0.0012\n",
            "Epoch 73/100\n",
            "3/3 [==============================] - 0s 33ms/step - loss: 8.6987e-04 - val_loss: 0.0012\n",
            "Epoch 74/100\n",
            "3/3 [==============================] - 0s 57ms/step - loss: 8.6977e-04 - val_loss: 0.0012\n",
            "Epoch 75/100\n",
            "3/3 [==============================] - 0s 25ms/step - loss: 8.6956e-04 - val_loss: 0.0012\n",
            "Epoch 76/100\n",
            "3/3 [==============================] - 0s 30ms/step - loss: 8.6988e-04 - val_loss: 0.0012\n",
            "Epoch 77/100\n",
            "3/3 [==============================] - 0s 22ms/step - loss: 8.6955e-04 - val_loss: 0.0012\n",
            "Epoch 78/100\n",
            "3/3 [==============================] - 0s 34ms/step - loss: 8.6987e-04 - val_loss: 0.0012\n",
            "Epoch 79/100\n",
            "3/3 [==============================] - 0s 37ms/step - loss: 8.6968e-04 - val_loss: 0.0012\n",
            "Epoch 80/100\n",
            "3/3 [==============================] - 0s 59ms/step - loss: 8.7043e-04 - val_loss: 0.0012\n",
            "Epoch 81/100\n",
            "3/3 [==============================] - 0s 27ms/step - loss: 8.6965e-04 - val_loss: 0.0012\n",
            "Epoch 82/100\n",
            "3/3 [==============================] - 0s 25ms/step - loss: 8.7047e-04 - val_loss: 0.0012\n",
            "Epoch 83/100\n",
            "3/3 [==============================] - 0s 25ms/step - loss: 8.7009e-04 - val_loss: 0.0012\n",
            "Epoch 84/100\n",
            "3/3 [==============================] - 0s 74ms/step - loss: 8.6944e-04 - val_loss: 0.0012\n",
            "Epoch 85/100\n",
            "3/3 [==============================] - 0s 80ms/step - loss: 8.7070e-04 - val_loss: 0.0012\n",
            "Epoch 86/100\n",
            "3/3 [==============================] - 0s 66ms/step - loss: 8.6938e-04 - val_loss: 0.0012\n",
            "Epoch 87/100\n",
            "3/3 [==============================] - 0s 81ms/step - loss: 8.6925e-04 - val_loss: 0.0012\n",
            "Epoch 88/100\n",
            "3/3 [==============================] - 0s 34ms/step - loss: 8.7040e-04 - val_loss: 0.0012\n",
            "Epoch 89/100\n",
            "3/3 [==============================] - 0s 33ms/step - loss: 8.6908e-04 - val_loss: 0.0012\n",
            "Epoch 90/100\n",
            "3/3 [==============================] - 0s 27ms/step - loss: 8.6963e-04 - val_loss: 0.0012\n",
            "Epoch 91/100\n",
            "3/3 [==============================] - 0s 33ms/step - loss: 8.6963e-04 - val_loss: 0.0012\n",
            "Epoch 92/100\n",
            "3/3 [==============================] - 0s 23ms/step - loss: 8.6935e-04 - val_loss: 0.0012\n",
            "Epoch 93/100\n",
            "3/3 [==============================] - 0s 23ms/step - loss: 8.6944e-04 - val_loss: 0.0012\n",
            "Epoch 94/100\n",
            "3/3 [==============================] - 0s 24ms/step - loss: 8.6930e-04 - val_loss: 0.0012\n",
            "Epoch 95/100\n",
            "3/3 [==============================] - 0s 32ms/step - loss: 8.6937e-04 - val_loss: 0.0012\n",
            "Epoch 96/100\n",
            "3/3 [==============================] - 0s 25ms/step - loss: 8.6895e-04 - val_loss: 0.0012\n",
            "Epoch 97/100\n",
            "3/3 [==============================] - 0s 33ms/step - loss: 8.6901e-04 - val_loss: 0.0012\n",
            "Epoch 98/100\n",
            "3/3 [==============================] - 0s 24ms/step - loss: 8.6897e-04 - val_loss: 0.0012\n",
            "Epoch 99/100\n",
            "3/3 [==============================] - 0s 35ms/step - loss: 8.6942e-04 - val_loss: 0.0012\n",
            "Epoch 100/100\n",
            "3/3 [==============================] - 0s 41ms/step - loss: 8.6895e-04 - val_loss: 0.0012\n"
          ]
        },
        {
          "output_type": "execute_result",
          "data": {
            "text/plain": [
              "<keras.callbacks.History at 0x7a9690123ee0>"
            ]
          },
          "metadata": {},
          "execution_count": 8
        }
      ],
      "source": [
        "model.fit(x=data['area'],y=data['price'], epochs=100, batch_size=32, verbose=1, validation_split=0.2)"
      ]
    },
    {
      "cell_type": "markdown",
      "id": "cd7e5405",
      "metadata": {
        "id": "cd7e5405"
      },
      "source": [
        "We can get the predicted value for a given input using the `predict` function:"
      ]
    },
    {
      "cell_type": "code",
      "execution_count": 9,
      "id": "8cdb817a",
      "metadata": {
        "colab": {
          "base_uri": "https://localhost:8080/"
        },
        "id": "8cdb817a",
        "outputId": "a9f498e9-8ad5-412a-d724-bff3e8087169"
      },
      "outputs": [
        {
          "output_type": "stream",
          "name": "stdout",
          "text": [
            "4/4 [==============================] - 0s 3ms/step\n"
          ]
        }
      ],
      "source": [
        "y_pred = model.predict(data['area'])"
      ]
    },
    {
      "cell_type": "code",
      "execution_count": 10,
      "id": "a3a449c5",
      "metadata": {
        "colab": {
          "base_uri": "https://localhost:8080/",
          "height": 466
        },
        "id": "a3a449c5",
        "outputId": "a5d4cb68-6944-492a-98a9-061d459873ad"
      },
      "outputs": [
        {
          "output_type": "execute_result",
          "data": {
            "text/plain": [
              "<matplotlib.legend.Legend at 0x7a967c42d270>"
            ]
          },
          "metadata": {},
          "execution_count": 10
        },
        {
          "output_type": "display_data",
          "data": {
            "text/plain": [
              "<Figure size 640x480 with 1 Axes>"
            ],
            "image/png": "[encoded data removed]"
          },
          "metadata": {}
        }
      ],
      "source": [
        "plt.plot(data['area'], y_pred, color='red',label=\"Predicted Price\")\n",
        "plt.scatter(data['area'], data['price'], label=\"Training Data\")\n",
        "plt.xlabel(\"Area\")\n",
        "plt.ylabel(\"Price\")\n",
        "plt.legend()"
      ]
    },
    {
      "cell_type": "code",
      "execution_count": 11,
      "id": "59863473",
      "metadata": {
        "colab": {
          "base_uri": "https://localhost:8080/"
        },
        "id": "59863473",
        "outputId": "f68f22c0-914b-43fc-8f95-7cacd5a2c475"
      },
      "outputs": [
        {
          "output_type": "execute_result",
          "data": {
            "text/plain": [
              "[<tf.Variable 'dense/kernel:0' shape=(1, 1) dtype=float32, numpy=array([[1.0306641]], dtype=float32)>,\n",
              " <tf.Variable 'dense/bias:0' shape=(1,) dtype=float32, numpy=array([-0.05661417], dtype=float32)>]"
            ]
          },
          "metadata": {},
          "execution_count": 11
        }
      ],
      "source": [
        "model.weights"
      ]
    },
    {
      "cell_type": "markdown",
      "id": "08d54216",
      "metadata": {
        "id": "08d54216"
      },
      "source": [
        "---"
      ]
    }
  ],
  "metadata": {
    "kernelspec": {
      "display_name": "Python 3",
      "name": "python3"
    },
    "language_info": {
      "codemirror_mode": {
        "name": "ipython",
        "version": 3
      },
      "file_extension": ".py",
      "mimetype": "text/x-python",
      "name": "python",
      "nbconvert_exporter": "python",
      "pygments_lexer": "ipython3",
      "version": "3.11.4"
    },
    "colab": {
      "provenance": [],
      "gpuType": "T4"
    },
    "accelerator": "GPU"
  },
  "nbformat": 4,
  "nbformat_minor": 5
}