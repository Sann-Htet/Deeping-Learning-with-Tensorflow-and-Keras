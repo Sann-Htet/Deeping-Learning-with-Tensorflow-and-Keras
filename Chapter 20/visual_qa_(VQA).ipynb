{
 "cells": [
  {
   "cell_type": "code",
   "execution_count": 1,
   "id": "af9896ae",
   "metadata": {},
   "outputs": [
    {
     "name": "stderr",
     "output_type": "stream",
     "text": [
      "2023-09-14 17:50:26.261217: I tensorflow/tsl/cuda/cudart_stub.cc:28] Could not find cuda drivers on your machine, GPU will not be used.\n",
      "2023-09-14 17:50:26.510698: I tensorflow/tsl/cuda/cudart_stub.cc:28] Could not find cuda drivers on your machine, GPU will not be used.\n",
      "2023-09-14 17:50:26.512984: I tensorflow/core/platform/cpu_feature_guard.cc:182] This TensorFlow binary is optimized to use available CPU instructions in performance-critical operations.\n",
      "To enable the following instructions: AVX2 FMA, in other operations, rebuild TensorFlow with the appropriate compiler flags.\n",
      "2023-09-14 17:50:28.742566: W tensorflow/compiler/tf2tensorrt/utils/py_utils.cc:38] TF-TRT Warning: Could not find TensorRT\n",
      "2023-09-14 17:50:31.144744: W tensorflow/core/common_runtime/gpu/gpu_device.cc:1960] Cannot dlopen some GPU libraries. Please make sure the missing libraries mentioned above are installed properly if you would like to use GPU. Follow the guide at https://www.tensorflow.org/install/gpu for how to download and setup the required libraries for your platform.\n",
      "Skipping registering GPU devices...\n"
     ]
    },
    {
     "name": "stdout",
     "output_type": "stream",
     "text": [
      "Model: \"sequential\"\n",
      "_________________________________________________________________\n",
      " Layer (type)                Output Shape              Param #   \n",
      "=================================================================\n",
      " conv2d (Conv2D)             (None, 224, 224, 64)      1792      \n",
      "                                                                 \n",
      " conv2d_1 (Conv2D)           (None, 222, 222, 64)      36928     \n",
      "                                                                 \n",
      " max_pooling2d (MaxPooling2  (None, 111, 111, 64)      0         \n",
      " D)                                                              \n",
      "                                                                 \n",
      " conv2d_2 (Conv2D)           (None, 111, 111, 128)     73856     \n",
      "                                                                 \n",
      " conv2d_3 (Conv2D)           (None, 109, 109, 128)     147584    \n",
      "                                                                 \n",
      " max_pooling2d_1 (MaxPoolin  (None, 54, 54, 128)       0         \n",
      " g2D)                                                            \n",
      "                                                                 \n",
      " conv2d_4 (Conv2D)           (None, 54, 54, 256)       295168    \n",
      "                                                                 \n",
      " conv2d_5 (Conv2D)           (None, 52, 52, 256)       590080    \n",
      "                                                                 \n",
      " conv2d_6 (Conv2D)           (None, 50, 50, 256)       590080    \n",
      "                                                                 \n",
      " max_pooling2d_2 (MaxPoolin  (None, 25, 25, 256)       0         \n",
      " g2D)                                                            \n",
      "                                                                 \n",
      " flatten (Flatten)           (None, 160000)            0         \n",
      "                                                                 \n",
      "=================================================================\n",
      "Total params: 1735488 (6.62 MB)\n",
      "Trainable params: 1735488 (6.62 MB)\n",
      "Non-trainable params: 0 (0.00 Byte)\n",
      "_________________________________________________________________\n"
     ]
    }
   ],
   "source": [
    "# Import Keras \n",
    "import tensorflow as tf\n",
    "from tensorflow.keras import layers, models\n",
    "\n",
    "# IMAGE\n",
    "#\n",
    "# Define CNN for visual processing\n",
    "cnn_model = models.Sequential()\n",
    "cnn_model.add(layers.Conv2D(64, (3, 3), activation='relu', padding='same', input_shape=(224, 224, 3)))\n",
    "cnn_model.add(layers.Conv2D(64, (3, 3), activation='relu'))\n",
    "cnn_model.add(layers.MaxPooling2D(2, 2))\n",
    "cnn_model.add(layers.Conv2D(128, (3, 3), activation='relu', padding='same'))\n",
    "cnn_model.add(layers.Conv2D(128, (3, 3), activation='relu'))\n",
    "cnn_model.add(layers.MaxPooling2D(2, 2))\n",
    "cnn_model.add(layers.Conv2D(256, (3, 3), activation='relu', padding='same'))\n",
    "cnn_model.add(layers.Conv2D(256, (3, 3), activation='relu'))\n",
    "cnn_model.add(layers.Conv2D(256, (3, 3), activation='relu'))\n",
    "cnn_model.add(layers.MaxPooling2D(2, 2))\n",
    "cnn_model.add(layers.Flatten())\n",
    "cnn_model.summary()"
   ]
  },
  {
   "cell_type": "code",
   "execution_count": 2,
   "id": "c96c7e00",
   "metadata": {},
   "outputs": [],
   "source": [
    "#define the visual_model with proper input\n",
    "image_input = layers.Input(shape=(224, 224, 3))\n",
    "visual_model = cnn_model(image_input)"
   ]
  },
  {
   "cell_type": "code",
   "execution_count": 3,
   "id": "a19ef318",
   "metadata": {},
   "outputs": [],
   "source": [
    "# TEXT\n",
    "#\n",
    "#define the RNN model for text processing\n",
    "question_input = layers.Input(shape=(100,), dtype='int32')\n",
    "emdedding = layers.Embedding(input_dim=10000, output_dim=256, input_length=100)(question_input)\n",
    "encoded_question = layers.LSTM(256)(emdedding)"
   ]
  },
  {
   "cell_type": "code",
   "execution_count": 4,
   "id": "9ffbce1c",
   "metadata": {},
   "outputs": [
    {
     "name": "stderr",
     "output_type": "stream",
     "text": [
      "2023-09-14 17:51:20.560203: W tensorflow/tsl/framework/cpu_allocator_impl.cc:83] Allocation of 641024000 exceeds 10% of free system memory.\n",
      "2023-09-14 17:51:21.068805: W tensorflow/tsl/framework/cpu_allocator_impl.cc:83] Allocation of 641024000 exceeds 10% of free system memory.\n",
      "2023-09-14 17:51:21.187174: W tensorflow/tsl/framework/cpu_allocator_impl.cc:83] Allocation of 641024000 exceeds 10% of free system memory.\n"
     ]
    }
   ],
   "source": [
    "# combine the encoded question and visual model\n",
    "merged = layers.concatenate([encoded_question, visual_model])\n",
    "#attach a dense network at the end\n",
    "output = layers.Dense(1000, activation='softmax')(merged)"
   ]
  },
  {
   "cell_type": "code",
   "execution_count": 5,
   "id": "040005ee",
   "metadata": {},
   "outputs": [
    {
     "name": "stdout",
     "output_type": "stream",
     "text": [
      "Model: \"model\"\n",
      "__________________________________________________________________________________________________\n",
      " Layer (type)                Output Shape                 Param #   Connected to                  \n",
      "==================================================================================================\n",
      " input_2 (InputLayer)        [(None, 100)]                0         []                            \n",
      "                                                                                                  \n",
      " embedding (Embedding)       (None, 100, 256)             2560000   ['input_2[0][0]']             \n",
      "                                                                                                  \n",
      " input_1 (InputLayer)        [(None, 224, 224, 3)]        0         []                            \n",
      "                                                                                                  \n",
      " lstm (LSTM)                 (None, 256)                  525312    ['embedding[0][0]']           \n",
      "                                                                                                  \n",
      " sequential (Sequential)     (None, 160000)               1735488   ['input_1[0][0]']             \n",
      "                                                                                                  \n",
      " concatenate (Concatenate)   (None, 160256)               0         ['lstm[0][0]',                \n",
      "                                                                     'sequential[0][0]']          \n",
      "                                                                                                  \n",
      " dense (Dense)               (None, 1000)                 1602570   ['concatenate[0][0]']         \n",
      "                                                          00                                      \n",
      "                                                                                                  \n",
      "==================================================================================================\n",
      "Total params: 165077800 (629.72 MB)\n",
      "Trainable params: 165077800 (629.72 MB)\n",
      "Non-trainable params: 0 (0.00 Byte)\n",
      "__________________________________________________________________________________________________\n"
     ]
    }
   ],
   "source": [
    "#get the combined model\n",
    "vqa_model = models.Model(inputs=[image_input, question_input], outputs=output)\n",
    "vqa_model.summary()"
   ]
  },
  {
   "cell_type": "markdown",
   "id": "fde49448",
   "metadata": {},
   "source": [
    "---"
   ]
  }
 ],
 "metadata": {
  "kernelspec": {
   "display_name": "Python 3 (ipykernel)",
   "language": "python",
   "name": "python3"
  },
  "language_info": {
   "codemirror_mode": {
    "name": "ipython",
    "version": 3
   },
   "file_extension": ".py",
   "mimetype": "text/x-python",
   "name": "python",
   "nbconvert_exporter": "python",
   "pygments_lexer": "ipython3",
   "version": "3.11.4"
  }
 },
 "nbformat": 4,
 "nbformat_minor": 5
}
