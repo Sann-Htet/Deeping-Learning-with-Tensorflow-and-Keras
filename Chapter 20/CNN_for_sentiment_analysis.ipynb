{
 "cells": [
  {
   "cell_type": "code",
   "execution_count": 1,
   "id": "7cd1363a",
   "metadata": {},
   "outputs": [
    {
     "name": "stderr",
     "output_type": "stream",
     "text": [
      "2023-09-14 20:46:58.546601: I tensorflow/tsl/cuda/cudart_stub.cc:28] Could not find cuda drivers on your machine, GPU will not be used.\n",
      "2023-09-14 20:46:58.636156: I tensorflow/tsl/cuda/cudart_stub.cc:28] Could not find cuda drivers on your machine, GPU will not be used.\n",
      "2023-09-14 20:46:58.637214: I tensorflow/core/platform/cpu_feature_guard.cc:182] This TensorFlow binary is optimized to use available CPU instructions in performance-critical operations.\n",
      "To enable the following instructions: AVX2 FMA, in other operations, rebuild TensorFlow with the appropriate compiler flags.\n",
      "2023-09-14 20:47:00.708530: W tensorflow/compiler/tf2tensorrt/utils/py_utils.cc:38] TF-TRT Warning: Could not find TensorRT\n",
      "/home/sann-htet/anaconda3/envs/tensorflow/lib/python3.11/site-packages/tqdm/auto.py:21: TqdmWarning: IProgress not found. Please update jupyter and ipywidgets. See https://ipywidgets.readthedocs.io/en/stable/user_install.html\n",
      "  from .autonotebook import tqdm as notebook_tqdm\n"
     ]
    }
   ],
   "source": [
    "import tensorflow as tf\n",
    "from tensorflow.keras import datasets, layers, models, preprocessing\n",
    "import tensorflow_datasets as tfds"
   ]
  },
  {
   "cell_type": "code",
   "execution_count": 2,
   "id": "68787bcb",
   "metadata": {},
   "outputs": [
    {
     "name": "stdout",
     "output_type": "stream",
     "text": [
      "Model: \"sequential\"\n",
      "_________________________________________________________________\n",
      " Layer (type)                Output Shape              Param #   \n",
      "=================================================================\n",
      " embedding (Embedding)       (None, 200, 256)          2560000   \n",
      "                                                                 \n",
      " dropout (Dropout)           (None, 200, 256)          0         \n",
      "                                                                 \n",
      " conv1d (Conv1D)             (None, 198, 256)          196864    \n",
      "                                                                 \n",
      " global_max_pooling1d (Glob  (None, 256)               0         \n",
      " alMaxPooling1D)                                                 \n",
      "                                                                 \n",
      " dense (Dense)               (None, 128)               32896     \n",
      "                                                                 \n",
      " dropout_1 (Dropout)         (None, 128)               0         \n",
      "                                                                 \n",
      " dense_1 (Dense)             (None, 1)                 129       \n",
      "                                                                 \n",
      "=================================================================\n",
      "Total params: 2789889 (10.64 MB)\n",
      "Trainable params: 2789889 (10.64 MB)\n",
      "Non-trainable params: 0 (0.00 Byte)\n",
      "_________________________________________________________________\n"
     ]
    },
    {
     "name": "stderr",
     "output_type": "stream",
     "text": [
      "2023-09-14 20:47:10.087081: W tensorflow/core/common_runtime/gpu/gpu_device.cc:1960] Cannot dlopen some GPU libraries. Please make sure the missing libraries mentioned above are installed properly if you would like to use GPU. Follow the guide at https://www.tensorflow.org/install/gpu for how to download and setup the required libraries for your platform.\n",
      "Skipping registering GPU devices...\n"
     ]
    }
   ],
   "source": [
    "max_len = 200\n",
    "n_words = 10000\n",
    "dim_embedding = 256\n",
    "EPOCHS = 20\n",
    "BATCH_SIZE =500\n",
    "\n",
    "def load_data():\n",
    "\t#load data\n",
    "\t(X_train, y_train), (X_test, y_test) = datasets.imdb.load_data(num_words=n_words)\n",
    "\t# Pad sequences with max_len\n",
    "\tX_train = preprocessing.sequence.pad_sequences(X_train, maxlen=max_len)\n",
    "\tX_test = preprocessing.sequence.pad_sequences(X_test, maxlen=max_len)\n",
    "\treturn (X_train, y_train), (X_test, y_test)\n",
    "\n",
    "def build_model():\n",
    "\tmodel = models.Sequential()\n",
    "\t#Input - Emedding Layer\n",
    "\t# the model will take as input an integer matrix of size (batch, input_length)\n",
    "\t# the model will output dimension (input_length, dim_embedding)\n",
    "    # the largest integer in the input should be no larger\n",
    "    # than n_words (vocabulary size).\n",
    "\tmodel.add(layers.Embedding(n_words, \n",
    "\t\tdim_embedding, input_length=max_len))\n",
    "\n",
    "\tmodel.add(layers.Dropout(0.3))\n",
    "\n",
    "\tmodel.add(layers.Conv1D(256, 3, padding='valid', \n",
    "\t\tactivation='relu'))\n",
    "\n",
    "\t#takes the maximum value of either feature vector from each of the n_words features\n",
    "\tmodel.add(layers.GlobalMaxPooling1D())\n",
    "\tmodel.add(layers.Dense(128, activation='relu'))\n",
    "\tmodel.add(layers.Dropout(0.5))\n",
    "\tmodel.add(layers.Dense(1, activation='sigmoid'))\n",
    "\n",
    "\treturn model\n",
    "\n",
    "(X_train, y_train), (X_test, y_test) = load_data()\n",
    "model=build_model()\n",
    "model.summary()"
   ]
  },
  {
   "cell_type": "code",
   "execution_count": 3,
   "id": "a682db95",
   "metadata": {},
   "outputs": [
    {
     "name": "stdout",
     "output_type": "stream",
     "text": [
      "Epoch 1/20\n"
     ]
    },
    {
     "name": "stderr",
     "output_type": "stream",
     "text": [
      "2023-09-14 20:47:12.316025: W tensorflow/tsl/framework/cpu_allocator_impl.cc:83] Allocation of 102400000 exceeds 10% of free system memory.\n",
      "2023-09-14 20:47:12.326706: W tensorflow/tsl/framework/cpu_allocator_impl.cc:83] Allocation of 102400000 exceeds 10% of free system memory.\n",
      "2023-09-14 20:47:12.502081: W tensorflow/tsl/framework/cpu_allocator_impl.cc:83] Allocation of 101376000 exceeds 10% of free system memory.\n",
      "2023-09-14 20:47:12.827251: W tensorflow/tsl/framework/cpu_allocator_impl.cc:83] Allocation of 101376000 exceeds 10% of free system memory.\n",
      "2023-09-14 20:47:12.925794: W tensorflow/tsl/framework/cpu_allocator_impl.cc:83] Allocation of 102400000 exceeds 10% of free system memory.\n"
     ]
    },
    {
     "name": "stdout",
     "output_type": "stream",
     "text": [
      "50/50 [==============================] - 73s 1s/step - loss: 0.6518 - accuracy: 0.6310 - val_loss: 0.5183 - val_accuracy: 0.7582\n",
      "Epoch 2/20\n",
      "50/50 [==============================] - 72s 1s/step - loss: 0.3962 - accuracy: 0.8236 - val_loss: 0.3069 - val_accuracy: 0.8684\n",
      "Epoch 3/20\n",
      "50/50 [==============================] - 71s 1s/step - loss: 0.2508 - accuracy: 0.8992 - val_loss: 0.2705 - val_accuracy: 0.8849\n",
      "Epoch 4/20\n",
      "50/50 [==============================] - 70s 1s/step - loss: 0.1617 - accuracy: 0.9431 - val_loss: 0.2734 - val_accuracy: 0.8878\n",
      "Epoch 5/20\n",
      "50/50 [==============================] - 71s 1s/step - loss: 0.0946 - accuracy: 0.9716 - val_loss: 0.2938 - val_accuracy: 0.8848\n",
      "Epoch 6/20\n",
      "50/50 [==============================] - 70s 1s/step - loss: 0.0505 - accuracy: 0.9878 - val_loss: 0.3207 - val_accuracy: 0.8853\n",
      "Epoch 7/20\n",
      "50/50 [==============================] - 70s 1s/step - loss: 0.0260 - accuracy: 0.9957 - val_loss: 0.3545 - val_accuracy: 0.8844\n",
      "Epoch 8/20\n",
      "50/50 [==============================] - 70s 1s/step - loss: 0.0144 - accuracy: 0.9980 - val_loss: 0.3917 - val_accuracy: 0.8826\n",
      "Epoch 9/20\n",
      "50/50 [==============================] - 74s 1s/step - loss: 0.0085 - accuracy: 0.9990 - val_loss: 0.4184 - val_accuracy: 0.8814\n",
      "Epoch 10/20\n",
      "50/50 [==============================] - 79s 2s/step - loss: 0.0058 - accuracy: 0.9993 - val_loss: 0.4402 - val_accuracy: 0.8829\n",
      "Epoch 11/20\n",
      "50/50 [==============================] - 80s 2s/step - loss: 0.0039 - accuracy: 0.9998 - val_loss: 0.4609 - val_accuracy: 0.8819\n",
      "Epoch 12/20\n",
      "50/50 [==============================] - 71s 1s/step - loss: 0.0031 - accuracy: 0.9998 - val_loss: 0.4786 - val_accuracy: 0.8815\n",
      "Epoch 13/20\n",
      "50/50 [==============================] - 75s 2s/step - loss: 0.0022 - accuracy: 0.9999 - val_loss: 0.4983 - val_accuracy: 0.8818\n",
      "Epoch 14/20\n",
      "50/50 [==============================] - 73s 1s/step - loss: 0.0018 - accuracy: 0.9999 - val_loss: 0.5105 - val_accuracy: 0.8818\n",
      "Epoch 15/20\n",
      "50/50 [==============================] - 75s 2s/step - loss: 0.0014 - accuracy: 1.0000 - val_loss: 0.5296 - val_accuracy: 0.8810\n",
      "Epoch 16/20\n",
      "50/50 [==============================] - 79s 2s/step - loss: 0.0010 - accuracy: 1.0000 - val_loss: 0.5441 - val_accuracy: 0.8812\n",
      "Epoch 17/20\n",
      "50/50 [==============================] - 76s 2s/step - loss: 9.7240e-04 - accuracy: 1.0000 - val_loss: 0.5529 - val_accuracy: 0.8812\n",
      "Epoch 18/20\n",
      "50/50 [==============================] - 79s 2s/step - loss: 9.0386e-04 - accuracy: 1.0000 - val_loss: 0.5614 - val_accuracy: 0.8818\n",
      "Epoch 19/20\n",
      "50/50 [==============================] - 77s 2s/step - loss: 7.5081e-04 - accuracy: 1.0000 - val_loss: 0.5701 - val_accuracy: 0.8820\n",
      "Epoch 20/20\n",
      "50/50 [==============================] - 79s 2s/step - loss: 6.9743e-04 - accuracy: 1.0000 - val_loss: 0.5763 - val_accuracy: 0.8821\n"
     ]
    }
   ],
   "source": [
    "model.compile(optimizer = \"adam\", loss = \"binary_crossentropy\",\n",
    " metrics = [\"accuracy\"]\n",
    ")\n",
    "\n",
    "score = model.fit(X_train, y_train,\n",
    " epochs= EPOCHS,\n",
    " batch_size = BATCH_SIZE,\n",
    " validation_data = (X_test, y_test)\n",
    ")"
   ]
  },
  {
   "cell_type": "code",
   "execution_count": 4,
   "id": "5ad17c6c",
   "metadata": {},
   "outputs": [
    {
     "name": "stdout",
     "output_type": "stream",
     "text": [
      "50/50 [==============================] - 16s 327ms/step - loss: 0.5763 - accuracy: 0.8821\n",
      "\n",
      "Test score: 0.5762584805488586\n",
      "Test accuracy: 0.8820800185203552\n"
     ]
    }
   ],
   "source": [
    "score = model.evaluate(X_test, y_test, batch_size=BATCH_SIZE)\n",
    "print(\"\\nTest score:\", score[0])\n",
    "print('Test accuracy:', score[1])"
   ]
  }
 ],
 "metadata": {
  "kernelspec": {
   "display_name": "Python 3 (ipykernel)",
   "language": "python",
   "name": "python3"
  },
  "language_info": {
   "codemirror_mode": {
    "name": "ipython",
    "version": 3
   },
   "file_extension": ".py",
   "mimetype": "text/x-python",
   "name": "python",
   "nbconvert_exporter": "python",
   "pygments_lexer": "ipython3",
   "version": "3.11.4"
  }
 },
 "nbformat": 4,
 "nbformat_minor": 5
}
